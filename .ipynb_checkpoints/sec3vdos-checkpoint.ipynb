{
 "cells": [
  {
   "cell_type": "code",
   "execution_count": 1,
   "id": "08625e11",
   "metadata": {},
   "outputs": [
    {
     "name": "stdout",
     "output_type": "stream",
     "text": [
      "['False', 'None', 'True', 'and', 'as', 'assert', 'async', 'await', 'break', 'class', 'continue', 'def', 'del', 'elif', 'else', 'except', 'finally', 'for', 'from', 'global', 'if', 'import', 'in', 'is', 'lambda', 'nonlocal', 'not', 'or', 'pass', 'raise', 'return', 'try', 'while', 'with', 'yield']\n",
      "\n",
      "total keywords:-35\n"
     ]
    }
   ],
   "source": [
    "#list of available keywords \n",
    "import keyword\n",
    "print(keyword.kwlist)\n",
    "print(\"\\ntotal keywords:-{}\".format(len(keyword.kwlist)))"
   ]
  },
  {
   "cell_type": "code",
   "execution_count": 1,
   "id": "c6c4c307",
   "metadata": {},
   "outputs": [
    {
     "name": "stdout",
     "output_type": "stream",
     "text": [
      "11\n",
      "a\n",
      "a\n",
      "h\n"
     ]
    }
   ],
   "source": [
    "s=\"hello nigga\"\n",
    "print(len(s))\n",
    "print(s[-1])\n",
    "print(s[len(s)-1])\n",
    "print(s[-len(s)])\n",
    "#hi comments"
   ]
  },
  {
   "cell_type": "code",
   "execution_count": 1,
   "id": "d21266d5",
   "metadata": {},
   "outputs": [
    {
     "name": "stdout",
     "output_type": "stream",
     "text": [
      "check\n",
      "10\n",
      "\n",
      "0123456789\n",
      "1234\n",
      "0123456789\n",
      "9876543210\n",
      "246\n",
      "23\n",
      "\n",
      "43\n",
      "\n",
      "864\n",
      "012345\n",
      "654321\n"
     ]
    }
   ],
   "source": [
    "#slice\n",
    "\n",
    "n=\"0123456789\"\n",
    "print(\"check\")\n",
    "print(len(n))\n",
    "print(n[9:-1:-1])#prints nothing\n",
    "print(n[::])\n",
    "print(n[1:5])#END INDEX WILLN'T BE INCLUDED!!!\n",
    "print(n[:len(n)])\n",
    "print(n[::-1])\n",
    "print(n[2:8:2])\n",
    "print(n[2:4:1])\n",
    "print(n[2:4:-1])#prints nothing\n",
    "print(n[4:2:-1])\n",
    "print(n[2:8:-2])#prints nothing coz n.p to print\n",
    "#from backward and simoultaneously starting with 2\n",
    "\n",
    "#SIMPLY IF (-) COMES IN SKIP PART ,THEN STARTING INDEX > STOP INDEX\n",
    "# IF NOT FOLLOWED IT DOES SHOW ERROR ,INSTEAD IT PRINT's NOTHING\n",
    "\n",
    "print(n[8:2:-2])\n",
    "print(n[0:-4:1])# works fine ,from 0 to -4(ie 6)\n",
    "\n",
    "#NOTEEE - IMPORTANT\n",
    "#IF (-) COMES IN START /STOP INDEX THEN MAKE IT AS POSITIVE (EX:-4 -> 6 in blw example) \n",
    "\n",
    "\n",
    "print(n[-4:0:-1])"
   ]
  },
  {
   "cell_type": "markdown",
   "id": "14514d91",
   "metadata": {},
   "source": [
    "### MUTABLE IN IMMUTABLE IN PYTHON DETAILED:\n",
    "\n",
    "https://www.mygreatlearning.com/blog/understanding-mutable-and-immutable-in-python/ "
   ]
  },
  {
   "cell_type": "code",
   "execution_count": 3,
   "id": "20cec878",
   "metadata": {},
   "outputs": [
    {
     "name": "stdout",
     "output_type": "stream",
     "text": [
      "enaa_thala\n",
      "enaa_thala_amuku_dumuku \n",
      "enaa_thala_amuku_dumuku   enaa_thala_amuku_dumuku   enaa_thala_amuku_dumuku   \n",
      "_amuku_dumuku _amuku_dumuku _amuku_dumuku \n",
      "1_amuku_dumuku \n"
     ]
    },
    {
     "ename": "TypeError",
     "evalue": "can only concatenate str (not \"int\") to str",
     "output_type": "error",
     "traceback": [
      "\u001b[1;31m---------------------------------------------------------------------------\u001b[0m",
      "\u001b[1;31mTypeError\u001b[0m                                 Traceback (most recent call last)",
      "\u001b[1;32m~\\AppData\\Local\\Temp/ipykernel_10424/1304108228.py\u001b[0m in \u001b[0;36m<module>\u001b[1;34m\u001b[0m\n\u001b[0;32m     12\u001b[0m \u001b[0mprint\u001b[0m\u001b[1;33m(\u001b[0m\u001b[1;34m'1'\u001b[0m\u001b[1;33m+\u001b[0m\u001b[0my\u001b[0m\u001b[1;33m)\u001b[0m\u001b[1;33m\u001b[0m\u001b[1;33m\u001b[0m\u001b[0m\n\u001b[0;32m     13\u001b[0m \u001b[1;31m#print(1+x)#num+str--so error\u001b[0m\u001b[1;33m\u001b[0m\u001b[1;33m\u001b[0m\u001b[1;33m\u001b[0m\u001b[0m\n\u001b[1;32m---> 14\u001b[1;33m \u001b[0mprint\u001b[0m\u001b[1;33m(\u001b[0m\u001b[0mx\u001b[0m\u001b[1;33m+\u001b[0m\u001b[1;36m1\u001b[0m\u001b[1;33m)\u001b[0m\u001b[1;33m\u001b[0m\u001b[1;33m\u001b[0m\u001b[0m\n\u001b[0m",
      "\u001b[1;31mTypeError\u001b[0m: can only concatenate str (not \"int\") to str"
     ]
    }
   ],
   "source": [
    "#immutable\n",
    "x='inaa_thala'\n",
    "x='e'+x[1:]#immutable so reusing the var name(reassigning)\n",
    "print(x)\n",
    "\n",
    "#concat\n",
    "y=\"_amuku_dumuku \"\n",
    "print(x+y)\n",
    "# * opr\n",
    "print(3*(x+y+'  '))\n",
    "print(y*3)\n",
    "print('1'+y)\n",
    "#print(1+x)#num+str--so error\n",
    "print(x+1) # this also same above reason"
   ]
  },
  {
   "cell_type": "code",
   "execution_count": 35,
   "id": "bf38c65d",
   "metadata": {},
   "outputs": [],
   "source": [
    "x=\"hi vro\"\n",
    "#put x. then press tab to see avail meths"
   ]
  },
  {
   "cell_type": "code",
   "execution_count": 37,
   "id": "3691f3e5",
   "metadata": {},
   "outputs": [
    {
     "data": {
      "text/plain": [
       "'Hi vro'"
      ]
     },
     "execution_count": 37,
     "metadata": {},
     "output_type": "execute_result"
    }
   ],
   "source": [
    "x.capitalize()"
   ]
  },
  {
   "cell_type": "code",
   "execution_count": 38,
   "id": "f50432c5",
   "metadata": {},
   "outputs": [
    {
     "data": {
      "text/plain": [
       "<function str.swapcase()>"
      ]
     },
     "execution_count": 38,
     "metadata": {},
     "output_type": "execute_result"
    }
   ],
   "source": [
    "x.swapcase #withoout paraenthesis to know abt the function  \n"
   ]
  },
  {
   "cell_type": "code",
   "execution_count": 39,
   "id": "3f87d4f5",
   "metadata": {},
   "outputs": [
    {
     "data": {
      "text/plain": [
       "'HI VRO'"
      ]
     },
     "execution_count": 39,
     "metadata": {},
     "output_type": "execute_result"
    }
   ],
   "source": [
    "x.swapcase()"
   ]
  },
  {
   "cell_type": "code",
   "execution_count": 40,
   "id": "80fcf844",
   "metadata": {},
   "outputs": [
    {
     "data": {
      "text/plain": [
       "'sEE yOU'"
      ]
     },
     "execution_count": 40,
     "metadata": {},
     "output_type": "execute_result"
    }
   ],
   "source": [
    "'See You'.swapcase()"
   ]
  },
  {
   "cell_type": "markdown",
   "id": "d47218fc",
   "metadata": {},
   "source": [
    "### LETS SEE SOMEMORE STRING METHODS LATER\n",
    "\n",
    "https://www.programiz.com/python-programming/methods/string"
   ]
  },
  {
   "cell_type": "code",
   "execution_count": 3,
   "id": "7ec741dd",
   "metadata": {},
   "outputs": [
    {
     "name": "stdout",
     "output_type": "stream",
     "text": [
      "formating try INSERTED\n",
      "formating try diff three one three\n",
      "formating try index thala va thala\n",
      "formating diff types 1 hai 1.5\n"
     ]
    }
   ],
   "source": [
    "#PRINTING USING .format()\n",
    "print(\"formating try {}\".format(\"INSERTED\")) #NO NEED OF COMMA IN B/W\n",
    "print(\"formating try diff {th} {o} {th}\".format(o='one',t='two',th='three'))\n",
    "print(\"formating try index {1} {2} {1}\".format('hai','thala','va'))\n",
    "print(\"formating diff types {} {} {}\".format(1,'hai',1.5))"
   ]
  },
  {
   "cell_type": "code",
   "execution_count": 13,
   "id": "a0398d06",
   "metadata": {},
   "outputs": [
    {
     "name": "stdout",
     "output_type": "stream",
     "text": [
      "float formating 0.56497\n",
      "float fmtg 2 0.565\n",
      "float fmtg 3 0.56497\n",
      "float fmtg 4      0.565\n",
      "float fmtg 5   0.564972\n"
     ]
    }
   ],
   "source": [
    "# FORMATING OF FLOAT\n",
    "print(\"float formating {:1.5f}\".format(100/177))#don't leave space before ':' if u r not giving anything\n",
    "result=100/177\n",
    "print(\"float fmtg 2 {:1.3f}\".format(result))\n",
    "print(\"float fmtg 3 {r:5.5f}\".format(r=result))\n",
    "print(\"float fmtg 4 {t:10.3f}\".format(t=100/177))#note that num before decimal is the white space allocted for display\n",
    "print(\"float fmtg 5 {:10.6f}\".format(result))#total space 10 in that 6 for decimal--NOTE: BUT SEE 2,3 TYPE"
   ]
  },
  {
   "cell_type": "code",
   "execution_count": 1,
   "id": "8a8eeb05",
   "metadata": {},
   "outputs": [],
   "source": [
    "#FOR FILLING LATER ON STRINGS AAND METHS"
   ]
  },
  {
   "cell_type": "code",
   "execution_count": 49,
   "id": "2c03e92e",
   "metadata": {},
   "outputs": [
    {
     "name": "stdout",
     "output_type": "stream",
     "text": [
      "[0, 0, 0, 0, 0, 0, 0, 0, 0, 0]\n",
      "None\n",
      "['a', 'b', 'z']\n",
      "[1, 'a', 'hike', 2.34, 'a', 'b', 'z']\n",
      "\n",
      "\n",
      "None\n",
      "['a', 'b', 'z', 12, 11]\n",
      "['a', 'b', 'z', 12, 11]\n",
      "['a', 'b', 'z', 12, 11, 10]\n",
      "['a', 'b', 'z', 12, 11, 10, 'q']\n",
      "\n",
      "\n",
      "q\n",
      "a\n",
      "['b', 'z', 12, 11, 10]\n",
      "\n",
      "\n",
      "[10, 11, 12, 'z', 'b']\n",
      "['b', 'z', 12, 11, 10]\n",
      "\n",
      "\n",
      "[]\n",
      "\n",
      "\n",
      "[10, 11]\n",
      "\n",
      "\n",
      "1\n",
      "0\n",
      "\n",
      "\n",
      "[10, 11, 12, 14, 16]\n",
      "\n",
      "\n",
      "2\n",
      "\n",
      "\n",
      "5\n",
      "6\n",
      "7\n",
      "[100, 10, 11, 12, 14, 16]\n",
      "\n",
      "\n",
      "[100, 10, 11, 14, 16]\n",
      "\n",
      "\n",
      "check\n",
      "[100, 10, 11, 14, 16]\n"
     ]
    }
   ],
   "source": [
    "#LISTS\n",
    "list1=[1,'a','hike',2.34]\n",
    "list2=['a','z','b']\n",
    "list9=['a',1,'s',3]\n",
    "list10=[0]*10\n",
    "print(list10)\n",
    "list2.sort() #ONLY SORTS INTERNALLY AGAIN WE HAVE TO CALL THAT LIST ---- NOT PRINT - PRINT GIVES NONE\n",
    "print(list2.sort())#-- prints NONE\n",
    "print(list2)\n",
    "print(list1+list2)\n",
    "print('\\n')\n",
    "\n",
    "print(list2.append(12))#in place NO RETURN TYPE -- NULL IS THE RETURN TYPE BUT 12 GETS APPENDED IN THE LIST\n",
    "list4=list2.append(11)\n",
    "print(list2)\n",
    "list4=list2# without this, list4=list2.append(1),then print(list4) prints NONE\n",
    "#coz list2.append(1) returns NONE and it makes it as list4=NONE \n",
    "print(list4)\n",
    "list2.append(10)\n",
    "print(list2)\n",
    "list2.append('q')\n",
    "print(list2)\n",
    "print('\\n')\n",
    "\n",
    "print(list2.pop())#only returns the poped item  ---- THERE IS A RETURN TYPE UNLIKE sort(),append()\n",
    "poped_item=list2.pop(0)\n",
    "print(poped_item)\n",
    "print(list2)\n",
    "print('\\n')\n",
    "\n",
    "list2.reverse()#returns NONE-inplace\n",
    "list3=list2\n",
    "print(list3)\n",
    "list3.reverse()\n",
    "print(list3)\n",
    "print('\\n')\n",
    "\n",
    "list3.clear()#clears all the elements from the list\n",
    "print(list3)\n",
    "#print(list10) undefined so error will come \n",
    "print('\\n')\n",
    "\n",
    "list3.append(10)\n",
    "list3.append(11)\n",
    "print(list3)\n",
    "print('\\n')\n",
    "\n",
    "print(list3.count(10))\n",
    "print(list3.count(1))\n",
    "print('\\n')\n",
    "\n",
    "list3.extend([12,14,16])\n",
    "print(list3)\n",
    "print('\\n')\n",
    "\n",
    "print(list3.index(12))\n",
    "#print(list3.index(1000))  ERROR -VALUE ERROR \"THE NUM IS NOT IN THE LIST\" \n",
    "print('\\n')\n",
    "\n",
    "print(len(list3))\n",
    "list3.insert(0,100)## (INDEX,VALUE TO INSERT)\n",
    "print(len(list3))\n",
    "# note-below one is like alt of append()\n",
    "list3.insert(len(list3),'a')\n",
    "print(len(list3))\n",
    "list3.pop()\n",
    "print(list3)\n",
    "print('\\n')\n",
    "\n",
    "list3.remove(12)#takes only one arg that too VALUE ,NOT THE INDEX  -- INPLACE\n",
    "print(list3)\n",
    "print('\\n')\n",
    "\n",
    "print(\"check\")#WHAT IS COPY , SHALLOW COPY VS DEEP COPY\n",
    "list4=list3.copy()\n",
    "print(list4)"
   ]
  },
  {
   "cell_type": "markdown",
   "id": "3ab0f145",
   "metadata": {},
   "source": [
    "### shallow,deep copy\n",
    "\n",
    "https://www.programiz.com/python-programming/shallow-deep-copy"
   ]
  },
  {
   "cell_type": "markdown",
   "id": "3df7d140",
   "metadata": {},
   "source": [
    "### dictionaries\n",
    "\n",
    "https://www.w3schools.com/python/python_dictionaries.asp\n",
    "\n",
    "https://www.programiz.com/python-programming/dictionary\n",
    "\n",
    "https://realpython.com/python-dicts/"
   ]
  },
  {
   "cell_type": "code",
   "execution_count": 15,
   "id": "bd69cbba",
   "metadata": {},
   "outputs": [
    {
     "name": "stdout",
     "output_type": "stream",
     "text": [
      "123\n",
      "a\n",
      "abc\n",
      "1.2243\n",
      "[9, 8, 7]\n",
      "8\n",
      "[9, 8, 7]\n",
      "{'ik1': 1, 'ik2': 'adfg'}\n",
      "adfg\n",
      "\n",
      "\n",
      "ADFG\n",
      "F\n",
      "\n",
      "#to add in dict \n",
      "{'k1': 123, 'k2': 'a', 'k3': 'abc', 'k4': 1.2243, 'k5': [9, 8, 7], 'k6': {'ik1': 1, 'ik2': 'adfg'}, 'k7': 'added newly', 'k8': 1000, 'k10': 234.4, 'k11': 123}\n"
     ]
    }
   ],
   "source": [
    "#dictionaries\n",
    "\n",
    "d1={'k1':123,'k2':'a','k3':'abc','k4':1.2243,'k5':[9,8,7],\"k6\":{'ik1':1,'ik2':'adfg'}}\n",
    "print(d1['k1'])\n",
    "print(d1['k2'])\n",
    "print(d1[\"k3\"])\n",
    "print(d1['k4'])\n",
    "print(d1['k5'])\n",
    "print(d1['k5'][1])\n",
    "print(d1['k5'][::])\n",
    "print(d1['k6'])\n",
    "print(d1['k6']['ik2'])\n",
    "print('\\n')\n",
    "print(d1['k6']['ik2'].upper())\n",
    "print(d1['k6']['ik2'][2].upper())\n",
    "print('\\n#to add in dict ')\n",
    "d1['k7']='added newly'\n",
    "d1['k8']=1000\n",
    "d1['k10']=234.4\n",
    "d1['k11']=123\n",
    "print(d1)"
   ]
  },
  {
   "cell_type": "code",
   "execution_count": 29,
   "id": "412ebc20",
   "metadata": {},
   "outputs": [
    {
     "name": "stdout",
     "output_type": "stream",
     "text": [
      "dict_values([123, 'a', 'abc', 1.2243, [9, 8, 7], {'ik1': 1, 'ik2': 'adfg'}, 'added newly', 1000, 234.4, 123]) <class 'dict_values'> \n",
      "\n",
      "dict_keys(['k1', 'k2', 'k3', 'k4', 'k5', 'k6', 'k7', 'k8', 'k10', 'k11']) <class 'dict_keys'> \n",
      "\n",
      "{'k1': 123, 'k2': 'a', 'k3': 'abc', 'k4': 1.2243, 'k5': [9, 8, 7], 'k6': {'ik1': 1, 'ik2': 'adfg'}, 'k7': 'added newly', 'k8': 1000, 'k10': 234.4, 'k11': 123} \n",
      "\n",
      "dict_items([('k1', 123), ('k2', 'a'), ('k3', 'abc'), ('k4', 1.2243), ('k5', [9, 8, 7]), ('k6', {'ik1': 1, 'ik2': 'adfg'}), ('k7', 'added newly'), ('k8', 1000), ('k10', 234.4), ('k11', 123)]) <class 'dict_items'> \n",
      "\n"
     ]
    }
   ],
   "source": [
    "#methods in dicts\n",
    "print(d1.values(),type(d1.values()),\"\\n\")\n",
    "print(d1.keys(),type(d1.keys()),\"\\n\")\n",
    "print(d1,\"\\n\")\n",
    "print(d1.items(),type(d1.items()),\"\\n\")\n",
    "#print(d1.) #==MANY MORE METHODS ARE THERE IN DICTIONARIES IN PYTHON \n",
    "# SEE ALL IN GOOGLE"
   ]
  },
  {
   "cell_type": "code",
   "execution_count": 26,
   "id": "a464c662",
   "metadata": {},
   "outputs": [
    {
     "name": "stdout",
     "output_type": "stream",
     "text": [
      "('k1', 123)\n",
      "('k2', 'a')\n",
      "('k3', 'abc')\n",
      "('k4', 1.2243)\n",
      "('k5', [9, 8, 7])\n",
      "('k6', {'ik1': 1, 'ik2': 'adfg'})\n",
      "('k7', 'added newly')\n",
      "('k8', 1000)\n",
      "('k10', 234.4)\n",
      "('k11', 123)\n",
      "<class 'tuple'>\n"
     ]
    }
   ],
   "source": [
    "for i in d1.items():\n",
    "    print(i)\n",
    "    \n",
    "print(type(i))"
   ]
  },
  {
   "cell_type": "code",
   "execution_count": 21,
   "id": "f58b3c91",
   "metadata": {},
   "outputs": [
    {
     "name": "stdout",
     "output_type": "stream",
     "text": [
      "k1 _____ 123\n",
      "k2 _____ a\n",
      "k3 _____ abc\n",
      "k4 _____ 1.2243\n",
      "k5 _____ [9, 8, 7]\n",
      "k6 _____ {'ik1': 1, 'ik2': 'adfg'}\n",
      "k7 _____ added newly\n",
      "k8 _____ 1000\n",
      "k10 _____ 234.4\n",
      "k11 _____ 123\n"
     ]
    }
   ],
   "source": [
    "for i,j in d1.items():\n",
    "    print(i,\"_____\",j)"
   ]
  },
  {
   "cell_type": "code",
   "execution_count": 25,
   "id": "eb21b9ac",
   "metadata": {},
   "outputs": [
    {
     "name": "stdout",
     "output_type": "stream",
     "text": [
      "k1\n",
      "k2\n",
      "k3\n",
      "k4\n",
      "k5\n",
      "k6\n",
      "k7\n",
      "k8\n",
      "k10\n",
      "k11\n"
     ]
    }
   ],
   "source": [
    "for z in d1:   #loops thro keys\n",
    "    print(z)"
   ]
  },
  {
   "cell_type": "code",
   "execution_count": 13,
   "id": "8dc68207",
   "metadata": {},
   "outputs": [
    {
     "name": "stdout",
     "output_type": "stream",
     "text": [
      "12.3\n",
      "k2\n"
     ]
    }
   ],
   "source": [
    "d2={'k2':'abc','k2':123,'k2':12.3,'k3':'hi'}#NOTE--- 2/more same key name then last one only gets saved..\n",
    "print(d2['k2'])\n",
    "for k,v in d2.items():\n",
    "    if v==12.3:\n",
    "        print(k)"
   ]
  },
  {
   "cell_type": "code",
   "execution_count": 39,
   "id": "0e3a3757",
   "metadata": {},
   "outputs": [
    {
     "name": "stdout",
     "output_type": "stream",
     "text": [
      "<class 'tuple'>\n",
      "<class 'str'>\n",
      "<class 'tuple'>\n",
      "\n",
      "\n",
      "7\n",
      "1\n",
      "\n",
      "\n",
      "type is <class 'tuple'> dict check 3\n",
      "9\n",
      "-- 2\n",
      "1\n",
      "0\n",
      "0\n",
      "\n",
      "\n",
      "(12, 3, ['dei', 1.3, 45])\n"
     ]
    },
    {
     "ename": "TypeError",
     "evalue": "'tuple' object does not support item assignment",
     "output_type": "error",
     "traceback": [
      "\u001b[1;31m---------------------------------------------------------------------------\u001b[0m",
      "\u001b[1;31mTypeError\u001b[0m                                 Traceback (most recent call last)",
      "\u001b[1;32m~\\AppData\\Local\\Temp/ipykernel_10424/2279600337.py\u001b[0m in \u001b[0;36m<module>\u001b[1;34m\u001b[0m\n\u001b[0;32m     35\u001b[0m \u001b[0mt9\u001b[0m\u001b[1;33m=\u001b[0m\u001b[1;33m[\u001b[0m\u001b[1;36m12\u001b[0m\u001b[1;33m,\u001b[0m\u001b[1;36m3\u001b[0m\u001b[1;33m,\u001b[0m\u001b[1;33m(\u001b[0m\u001b[1;34m\"hi\"\u001b[0m\u001b[1;33m,\u001b[0m\u001b[1;36m1.3\u001b[0m\u001b[1;33m,\u001b[0m\u001b[1;36m45\u001b[0m\u001b[1;33m)\u001b[0m\u001b[1;33m]\u001b[0m\u001b[1;33m\u001b[0m\u001b[1;33m\u001b[0m\u001b[0m\n\u001b[0;32m     36\u001b[0m \u001b[1;31m#t9[2]='hi' -- POSIBLE\u001b[0m\u001b[1;33m\u001b[0m\u001b[1;33m\u001b[0m\u001b[1;33m\u001b[0m\u001b[0m\n\u001b[1;32m---> 37\u001b[1;33m \u001b[0mt9\u001b[0m\u001b[1;33m[\u001b[0m\u001b[1;36m2\u001b[0m\u001b[1;33m]\u001b[0m\u001b[1;33m[\u001b[0m\u001b[1;36m0\u001b[0m\u001b[1;33m]\u001b[0m\u001b[1;33m=\u001b[0m\u001b[1;34m\"ver\"\u001b[0m\u001b[1;33m\u001b[0m\u001b[1;33m\u001b[0m\u001b[0m\n\u001b[0m\u001b[0;32m     38\u001b[0m \u001b[0mprint\u001b[0m\u001b[1;33m(\u001b[0m\u001b[0mt9\u001b[0m\u001b[1;33m)\u001b[0m\u001b[1;33m\u001b[0m\u001b[1;33m\u001b[0m\u001b[0m\n",
      "\u001b[1;31mTypeError\u001b[0m: 'tuple' object does not support item assignment"
     ]
    }
   ],
   "source": [
    "#TUPLES\n",
    "# same like lists but IMMUTABLE\n",
    "t1=('hi',132,12.5,'hi')\n",
    "t2=('dhiyanu')#THIS IS STRING ######\n",
    "t3=('dhiyanu',)#THIS IS TUPLE ######\n",
    "print(type(t1))\n",
    "print(type(t2))\n",
    "print(type(t3))\n",
    "print('\\n')\n",
    "\n",
    "#len() in tuple\n",
    "print(len(t2))\n",
    "print(len(t3))\n",
    "print('\\n')\n",
    "\n",
    "t4=([7,8,9],{'k1':1,'k2':3})\n",
    "print(\"type is {} dict check {}\".format(type(t4),t4[1]['k2']))\n",
    "print(t4[0][2])\n",
    "#print(t4.index(8))\n",
    "\n",
    "#METHODS \n",
    "print(\"--\",t1.count(\"hi\"))\n",
    "print(t4.count([7,8,9]))\n",
    "print(t4.count(9))  \n",
    "\n",
    "print(t1.index('hi'))#IF MULTIPLE PRESENT THE FIRST INDEX IS RETURNED \n",
    "# print(t1.index('not present'))-- ERROR COZ NOT PRESENT IN THE TUPLE\n",
    "print('\\n')\n",
    "\n",
    "t=(12,3,['hi',1.3,45])  ##NOTE : MUTABLE TYPE INSIDE IMMUTABLE OBJ\n",
    "t[2][0]='dei'\n",
    "print(t)\n",
    "#t[2]=['new','list'] TypeError: 'tuple' object does not support item assignment \n",
    "\n",
    "t9=[12,3,(\"hi\",1.3,45)]\n",
    "#t9[2]='hi' -- POSIBLE\n",
    "t9[2][0]=\"ver\" ## NOT POSSIBLE \n",
    "print(t9)"
   ]
  },
  {
   "cell_type": "code",
   "execution_count": 6,
   "id": "02e3bd3e",
   "metadata": {},
   "outputs": [
    {
     "ename": "SyntaxError",
     "evalue": "invalid syntax (<ipython-input-6-50604c8db249>, line 3)",
     "output_type": "error",
     "traceback": [
      "\u001b[1;36m  File \u001b[1;32m\"<ipython-input-6-50604c8db249>\"\u001b[1;36m, line \u001b[1;32m3\u001b[0m\n\u001b[1;33m    print(del(tup))\u001b[0m\n\u001b[1;37m          ^\u001b[0m\n\u001b[1;31mSyntaxError\u001b[0m\u001b[1;31m:\u001b[0m invalid syntax\n"
     ]
    }
   ],
   "source": [
    "#SETS\n",
    "tup=('hi','da')\n",
    "del(tup)\n",
    "print(tup)"
   ]
  },
  {
   "cell_type": "code",
   "execution_count": 3,
   "id": "0d3ee408",
   "metadata": {},
   "outputs": [
    {
     "ename": "NameError",
     "evalue": "name 'tup' is not defined",
     "output_type": "error",
     "traceback": [
      "\u001b[1;31m---------------------------------------------------------------------------\u001b[0m",
      "\u001b[1;31mNameError\u001b[0m                                 Traceback (most recent call last)",
      "\u001b[1;32m<ipython-input-3-8130c03e2c82>\u001b[0m in \u001b[0;36m<module>\u001b[1;34m\u001b[0m\n\u001b[1;32m----> 1\u001b[1;33m \u001b[0mprint\u001b[0m\u001b[1;33m(\u001b[0m\u001b[0mtup\u001b[0m\u001b[1;33m)\u001b[0m\u001b[1;33m\u001b[0m\u001b[1;33m\u001b[0m\u001b[0m\n\u001b[0m",
      "\u001b[1;31mNameError\u001b[0m: name 'tup' is not defined"
     ]
    }
   ],
   "source": [
    "print(tup)"
   ]
  },
  {
   "cell_type": "code",
   "execution_count": 8,
   "id": "efd1e1e3",
   "metadata": {},
   "outputs": [
    {
     "name": "stdout",
     "output_type": "stream",
     "text": [
      "enter the string: hello alien\n",
      "in uppercase:  HELLO ALIEN\n",
      "in lowercase:  hello alien\n"
     ]
    }
   ],
   "source": [
    "str=input(\"enter the string: \")\n",
    "print(\"in uppercase: \",str.upper())\n",
    "print(\"in lowercase: \",str.lower())"
   ]
  },
  {
   "cell_type": "code",
   "execution_count": 33,
   "id": "3a7c5e79",
   "metadata": {
    "scrolled": true
   },
   "outputs": [
    {
     "name": "stdout",
     "output_type": "stream",
     "text": [
      "{1, 2, 'hello', 'd'}\n",
      "{2, 'hello', 'd'}\n",
      "{'vro', 1}\n",
      "{1, 3.0, 'a', 'hef'}\n",
      "{3.0, 'a', 'hef'}\n",
      "{3.0, 'hef'}\n",
      "{'hef'}\n",
      "rishav\n",
      "ajay\n",
      "aakash\n",
      "Updated set is {'ram', 'rahim'}\n",
      "\n",
      "**SOME MORE METHS ARE THERE work that also\n",
      "{'c', 'a', 'e', 'b'}\n",
      "['c', 'a', 'e', 'b']\n",
      "\n",
      "\n",
      "{'missisippi'}\n",
      "{'m', 's', 'i', 'p'}\n",
      "{'missisippi'}\n",
      "{'m', 's', 'i', 'p'}\n",
      "<class 'str'>\n",
      "{'j', 'f', 'i', 'r'}\n"
     ]
    },
    {
     "ename": "NameError",
     "evalue": "name 'Orderedset' is not defined",
     "output_type": "error",
     "traceback": [
      "\u001b[1;31m---------------------------------------------------------------------------\u001b[0m",
      "\u001b[1;31mNameError\u001b[0m                                 Traceback (most recent call last)",
      "\u001b[1;32m<ipython-input-33-ff773c3ee509>\u001b[0m in \u001b[0;36m<module>\u001b[1;34m\u001b[0m\n\u001b[0;32m     54\u001b[0m \u001b[0mlist4\u001b[0m\u001b[1;33m=\u001b[0m\u001b[1;33m[\u001b[0m\u001b[1;36m6\u001b[0m\u001b[1;33m,\u001b[0m\u001b[1;36m9\u001b[0m\u001b[1;33m,\u001b[0m\u001b[1;36m5\u001b[0m\u001b[1;33m,\u001b[0m\u001b[1;36m5\u001b[0m\u001b[1;33m,\u001b[0m\u001b[1;36m4\u001b[0m\u001b[1;33m,\u001b[0m\u001b[1;36m1\u001b[0m\u001b[1;33m,\u001b[0m\u001b[1;36m4\u001b[0m\u001b[1;33m,\u001b[0m\u001b[1;36m7\u001b[0m\u001b[1;33m,\u001b[0m\u001b[1;36m8\u001b[0m\u001b[1;33m,\u001b[0m\u001b[1;36m5\u001b[0m\u001b[1;33m,\u001b[0m\u001b[1;36m6\u001b[0m\u001b[1;33m,\u001b[0m\u001b[1;36m2\u001b[0m\u001b[1;33m,\u001b[0m\u001b[1;36m1\u001b[0m\u001b[1;33m,\u001b[0m\u001b[1;36m4\u001b[0m\u001b[1;33m,\u001b[0m\u001b[1;36m5\u001b[0m\u001b[1;33m,\u001b[0m\u001b[1;36m5\u001b[0m\u001b[1;33m,\u001b[0m\u001b[1;36m5\u001b[0m\u001b[1;33m,\u001b[0m\u001b[1;36m5\u001b[0m\u001b[1;33m,\u001b[0m\u001b[1;36m5\u001b[0m\u001b[1;33m,\u001b[0m\u001b[1;36m5\u001b[0m\u001b[1;33m,\u001b[0m\u001b[1;36m5\u001b[0m\u001b[1;33m,\u001b[0m\u001b[1;36m4\u001b[0m\u001b[1;33m,\u001b[0m\u001b[1;36m4\u001b[0m\u001b[1;33m,\u001b[0m\u001b[1;36m4\u001b[0m\u001b[1;33m,\u001b[0m\u001b[1;36m4\u001b[0m\u001b[1;33m,\u001b[0m\u001b[1;36m1\u001b[0m\u001b[1;33m,\u001b[0m\u001b[1;36m1\u001b[0m\u001b[1;33m,\u001b[0m\u001b[1;36m1\u001b[0m\u001b[1;33m,\u001b[0m\u001b[1;36m3\u001b[0m\u001b[1;33m,\u001b[0m\u001b[1;36m6\u001b[0m\u001b[1;33m,\u001b[0m\u001b[1;36m6\u001b[0m\u001b[1;33m,\u001b[0m\u001b[1;36m6\u001b[0m\u001b[1;33m,\u001b[0m\u001b[1;36m6\u001b[0m\u001b[1;33m,\u001b[0m\u001b[1;36m4\u001b[0m\u001b[1;33m]\u001b[0m\u001b[1;33m\u001b[0m\u001b[1;33m\u001b[0m\u001b[0m\n\u001b[0;32m     55\u001b[0m \u001b[0mset12\u001b[0m\u001b[1;33m=\u001b[0m\u001b[0mset\u001b[0m\u001b[1;33m(\u001b[0m\u001b[0mlist4\u001b[0m\u001b[1;33m)\u001b[0m\u001b[1;33m\u001b[0m\u001b[1;33m\u001b[0m\u001b[0m\n\u001b[1;32m---> 56\u001b[1;33m \u001b[0mset13\u001b[0m\u001b[1;33m=\u001b[0m\u001b[0mOrderedset\u001b[0m\u001b[1;33m(\u001b[0m\u001b[0mlist4\u001b[0m\u001b[1;33m)\u001b[0m\u001b[1;33m\u001b[0m\u001b[1;33m\u001b[0m\u001b[0m\n\u001b[0m",
      "\u001b[1;31mNameError\u001b[0m: name 'Orderedset' is not defined"
     ]
    }
   ],
   "source": [
    "#SETS \n",
    "set1={1,'d',1,'hello',1.0,2,2.0}#IN PYTHON ITS TRUE DIVISION 1==1.0 BUT IF YOU GIVE 1.0 IT'LL PRINT THE SAME\n",
    "print(set1)\n",
    "set1.pop()\n",
    "print(set1)\n",
    "set2=set()\n",
    "set2.add(1)\n",
    "set2.add(\"vro\")\n",
    "print(set2)\n",
    "list1=[1,1.0,'a',3.0,'hef']\n",
    "set3=set(list1)\n",
    "print(set3)\n",
    "set3.pop()\n",
    "print(set3)\n",
    "set3.remove('a')\n",
    "print(set3)\n",
    "set3.pop()\n",
    "print(set3)\n",
    "\n",
    "# Python code to illustrate pop() method\n",
    "  \n",
    "S = {\"ram\", \"rahim\", \"ajay\", \"rishav\", \"aakash\"}\n",
    "  \n",
    "# Popping three elements and printing them\n",
    "print(S.pop())\n",
    "print(S.pop())\n",
    "print(S.pop())\n",
    "  \n",
    "# The updated set\n",
    "print(\"Updated set is\", S)\n",
    "print('\\n**SOME MORE METHS ARE THERE work that also')\n",
    "# set to list\n",
    "list1=['a','a','a','b','b','b','b','b','b','b','b','b','c','c','c','c','e']\n",
    "set5=set(list1)\n",
    "print(set5)\n",
    "print(list(set5))# order mi8 change from converting set to list ,so print after changing\n",
    "\n",
    "#note\n",
    "print(\"\\n\")\n",
    "set6={'missisippi'}\n",
    "print(set6)\n",
    "set9=set('missisippi')\n",
    "print(set9)\n",
    "set7=set()\n",
    "set7.add('missisippi')\n",
    "print(set7)\n",
    "set8=set('missisippi',)#RESULT IS SAME \n",
    "#SET() CAN TAKE ATMOST 1 ARG \n",
    "print(set8)\n",
    "set10=('jirf')\n",
    "print(type(set10))\n",
    "set11=set(set10)\n",
    "print(set11)\n",
    "list4=[6,9,5,5,4,1,4,7,8,5,6,2,1,4,5,5,5,5,5,5,5,4,4,4,4,1,1,1,3,6,6,6,6,4]\n",
    "set12=set(list4)\n",
    "set13=orderedset(list4)"
   ]
  },
  {
   "cell_type": "markdown",
   "id": "097d78d2",
   "metadata": {},
   "source": [
    "   #FILES AND I/O\n",
    "    ways to open and write on a file\n",
    "   \n",
    "   1st way: will only work on jpy notebook -> %%writefile\n",
    "   \n",
    "   2nd way: To create a new file in Python, use the open() method, with one of the following parameters:\n",
    "\"x\" - Create - will create a file, returns an error if the file exist\n",
    "\"a\" - Append - will create a file if the specified file does not exist\n",
    "\"w\" - Write - will create a file if the specified file does not exist\n",
    "\n",
    "   3rd way:we can manually create a txt file {in the same location where we are running\n",
    "   the jpy notebook (to know dir type pwd), or specify full path in case of access}"
   ]
  },
  {
   "cell_type": "code",
   "execution_count": 17,
   "id": "40ff1700",
   "metadata": {
    "scrolled": false
   },
   "outputs": [
    {
     "data": {
      "text/plain": [
       "'C:\\\\Users\\\\ASUS\\\\jp python'"
      ]
     },
     "execution_count": 17,
     "metadata": {},
     "output_type": "execute_result"
    }
   ],
   "source": [
    "pwd\n"
   ]
  },
  {
   "cell_type": "code",
   "execution_count": 33,
   "id": "066e1028",
   "metadata": {},
   "outputs": [
    {
     "name": "stdout",
     "output_type": "stream",
     "text": [
      "Overwriting jupyfile.txt\n"
     ]
    }
   ],
   "source": [
    "%%writefile jupyfile.txt\n",
    "this method is used \n",
    "to directly write on txt file \n",
    "via jupy, no other things like cmts \n",
    "shldnt b there and also it shld b 1st line"
   ]
  },
  {
   "cell_type": "code",
   "execution_count": 34,
   "id": "a41a50df",
   "metadata": {},
   "outputs": [],
   "source": [
    "myfile1=open('jupyfile.txt')"
   ]
  },
  {
   "cell_type": "code",
   "execution_count": 35,
   "id": "0902f56a",
   "metadata": {},
   "outputs": [
    {
     "data": {
      "text/plain": [
       "'this method is used \\nto directly write on txt file \\nvia jupy, no other things like cmts \\nshldnt b there and also it shld b 1st line\\n'"
      ]
     },
     "execution_count": 35,
     "metadata": {},
     "output_type": "execute_result"
    }
   ],
   "source": [
    "myfile1.read()\n",
    "#READS BUT ALL CONTENT AS A SINGLE STRING\n",
    "#EVENTHOUGH WE WROTE IN DIFF LINE IT APPEARS AS ONE\n",
    "#WITH /n TO REPRESENT THAT THEY ARE DIFF LINE\n"
   ]
  },
  {
   "cell_type": "code",
   "execution_count": 36,
   "id": "783a1839",
   "metadata": {},
   "outputs": [
    {
     "data": {
      "text/plain": [
       "''"
      ]
     },
     "execution_count": 36,
     "metadata": {},
     "output_type": "execute_result"
    }
   ],
   "source": [
    "myfile1.read()\n",
    "#NOTE: THIS IS COZ, IMAGINE THERE IS A CURSOR @ BEGINING BFORE READING \n",
    "#AFTER 1 SUCESSFUL read() THE CURSOR COMES TO LAST\n",
    "#TO SOLVE THIS USE seek(0) TO SET CURSOR TO 1st PLACE"
   ]
  },
  {
   "cell_type": "code",
   "execution_count": 37,
   "id": "e03f8255",
   "metadata": {},
   "outputs": [
    {
     "data": {
      "text/plain": [
       "0"
      ]
     },
     "execution_count": 37,
     "metadata": {},
     "output_type": "execute_result"
    }
   ],
   "source": [
    "myfile1.seek(0)"
   ]
  },
  {
   "cell_type": "code",
   "execution_count": 38,
   "id": "106fe3b8",
   "metadata": {},
   "outputs": [
    {
     "data": {
      "text/plain": [
       "'this method is used \\nto directly write on txt file \\nvia jupy, no other things like cmts \\nshldnt b there and also it shld b 1st line\\n'"
      ]
     },
     "execution_count": 38,
     "metadata": {},
     "output_type": "execute_result"
    }
   ],
   "source": [
    "myfile1.read()"
   ]
  },
  {
   "cell_type": "code",
   "execution_count": 39,
   "id": "9026b5f1",
   "metadata": {},
   "outputs": [
    {
     "data": {
      "text/plain": [
       "['this method is used \\n',\n",
       " 'to directly write on txt file \\n',\n",
       " 'via jupy, no other things like cmts \\n',\n",
       " 'shldnt b there and also it shld b 1st line\\n']"
      ]
     },
     "execution_count": 39,
     "metadata": {},
     "output_type": "execute_result"
    }
   ],
   "source": [
    "myfile1.seek(0)\n",
    "myfile1.readlines()#NOTE THERE IS A |n @ LAST SO IT WILL BEHAVE DIFF ,ASSUME THAT THERE IS A CURSOR AFTER THAT \n",
    "#HERE ITS A LIST (so we can iterate) BUT STILL /n WILL B PRESENT"
   ]
  },
  {
   "cell_type": "code",
   "execution_count": 40,
   "id": "865ac969",
   "metadata": {},
   "outputs": [
    {
     "data": {
      "text/plain": [
       "'this method is used \\n'"
      ]
     },
     "execution_count": 40,
     "metadata": {},
     "output_type": "execute_result"
    }
   ],
   "source": [
    "myfile1.seek(0)\n",
    "myfile1.readline()\n"
   ]
  },
  {
   "cell_type": "code",
   "execution_count": 41,
   "id": "e9f69780",
   "metadata": {},
   "outputs": [
    {
     "name": "stdout",
     "output_type": "stream",
     "text": [
      "True\n"
     ]
    }
   ],
   "source": [
    "myfile1.seek(0)\n",
    "print(myfile1.readable())\n",
    "myfile1.close()\n",
    "# we need to close manually or else we will get error when we try to del that file"
   ]
  },
  {
   "cell_type": "code",
   "execution_count": 42,
   "id": "4e63e548",
   "metadata": {},
   "outputs": [
    {
     "ename": "PermissionError",
     "evalue": "[Errno 13] Permission denied: 'C:\\\\Users\\\\ASUS\\\\Desktop'",
     "output_type": "error",
     "traceback": [
      "\u001b[1;31m---------------------------------------------------------------------------\u001b[0m",
      "\u001b[1;31mPermissionError\u001b[0m                           Traceback (most recent call last)",
      "\u001b[1;32m<ipython-input-42-4a032b36fc84>\u001b[0m in \u001b[0;36m<module>\u001b[1;34m\u001b[0m\n\u001b[1;32m----> 1\u001b[1;33m \u001b[0mmyfile2\u001b[0m\u001b[1;33m=\u001b[0m\u001b[0mopen\u001b[0m\u001b[1;33m(\u001b[0m\u001b[1;34m'C:\\\\Users\\\\ASUS\\\\Desktop'\u001b[0m\u001b[1;33m)\u001b[0m\u001b[1;31m#\\\\ is needed to differantiate meaning b/w '/' -esc sequence\u001b[0m\u001b[1;33m\u001b[0m\u001b[1;33m\u001b[0m\u001b[0m\n\u001b[0m\u001b[0;32m      2\u001b[0m \u001b[0mmyfile2\u001b[0m\u001b[1;33m.\u001b[0m\u001b[0mread\u001b[0m\u001b[1;33m(\u001b[0m\u001b[1;33m)\u001b[0m\u001b[1;33m\u001b[0m\u001b[1;33m\u001b[0m\u001b[0m\n\u001b[0;32m      3\u001b[0m \u001b[1;31m#error coz of antivirus not giving access to open files\u001b[0m\u001b[1;33m\u001b[0m\u001b[1;33m\u001b[0m\u001b[1;33m\u001b[0m\u001b[0m\n",
      "\u001b[1;31mPermissionError\u001b[0m: [Errno 13] Permission denied: 'C:\\\\Users\\\\ASUS\\\\Desktop'"
     ]
    }
   ],
   "source": [
    "myfile2=open('C:\\\\Users\\\\ASUS\\\\Desktop')#\\\\ is needed to differantiate meaning b/w '/' -esc sequence\n",
    "myfile2.read()\n",
    "#error coz of antivirus not giving access to open files"
   ]
  },
  {
   "cell_type": "code",
   "execution_count": 43,
   "id": "b929d902",
   "metadata": {},
   "outputs": [
    {
     "name": "stdout",
     "output_type": "stream",
     "text": [
      "True\n",
      "\n",
      " this method is used \n",
      "to directly write on txt file \n",
      "via jupy, no other things like cmts \n",
      "shldnt b there and also it shld b 1st line\n",
      "\n"
     ]
    }
   ],
   "source": [
    "#using this method no need to worry abt closing the file\n",
    "with open('jupyfile.txt') as myfile3:\n",
    "    cont=myfile3.read()\n",
    "    print(myfile3.readable())\n",
    "\n",
    "print('\\n',cont)"
   ]
  },
  {
   "cell_type": "code",
   "execution_count": 44,
   "id": "fcb6b53c",
   "metadata": {},
   "outputs": [
    {
     "name": "stdout",
     "output_type": "stream",
     "text": [
      "this method is used \n",
      "to directly write on txt file \n",
      "via jupy, no other things like cmts \n",
      "shldnt b there and also it shld b 1st line\n",
      "\n"
     ]
    }
   ],
   "source": [
    "with open('jupyfile.txt',mode='r') as myfile4:#HERE PRESS SHIFT+TAB NEAR FUNCTION TO KNOW MORE ABT THAT FUNC\n",
    "    con=myfile4.read()\n",
    "print(con)"
   ]
  },
  {
   "cell_type": "code",
   "execution_count": 46,
   "id": "4ec1a38c",
   "metadata": {},
   "outputs": [
    {
     "name": "stdout",
     "output_type": "stream",
     "text": [
      "th\n"
     ]
    }
   ],
   "source": [
    "with open('jupyfile.txt',mode='a') as myf:# a- so it appends at last - no other operations possible\n",
    "    myf.write('I APPENDED THIS LINE')\n",
    "with open('jupyfile.txt',mode='r') as f:#to check \n",
    "    cons=f.read()\n",
    "print(cons[0:2])"
   ]
  },
  {
   "cell_type": "code",
   "execution_count": 47,
   "id": "b876d684",
   "metadata": {},
   "outputs": [],
   "source": [
    "with open('jupyfile.txt',mode='w') as fi:\n",
    "    fi.write('oops there was some text before but\\n on using \"w\" mode it overwrites')"
   ]
  },
  {
   "cell_type": "code",
   "execution_count": 48,
   "id": "8d409c8a",
   "metadata": {},
   "outputs": [
    {
     "name": "stdout",
     "output_type": "stream",
     "text": [
      "oops t\n"
     ]
    }
   ],
   "source": [
    "with open('jupyfile.txt',mode='r') as f:#to check \n",
    "    print(f.read(6))# also note we can pass upto which index we need to read as args "
   ]
  },
  {
   "cell_type": "code",
   "execution_count": 24,
   "id": "987c09b4",
   "metadata": {},
   "outputs": [],
   "source": [
    "#stil more modes are there try that ttoo\n"
   ]
  },
  {
   "cell_type": "code",
   "execution_count": 26,
   "id": "717593dd",
   "metadata": {},
   "outputs": [],
   "source": [
    "mff=open('anfile.txt',mode='w')# to create a file using open() method\n",
    "mff.close()"
   ]
  },
  {
   "cell_type": "markdown",
   "id": "eaf37bc1",
   "metadata": {},
   "source": [
    "## SECTION 4"
   ]
  },
  {
   "cell_type": "code",
   "execution_count": 9,
   "id": "978f0db9",
   "metadata": {},
   "outputs": [
    {
     "name": "stdout",
     "output_type": "stream",
     "text": [
      "True\n",
      "100 99\n"
     ]
    }
   ],
   "source": [
    "s1='abdef'\n",
    "s2='abcfe'\n",
    "print(s1>s2)\n",
    "#we can use ord() - for ASCII(UNICODE) VALUE OF STR LEN 1(MORE LIKE IT WILL GIVE UNICODE)\n",
    "# we can use cht()-int as args to get an char corresponding to the unicode\n",
    "print(ord('d'),ord('c'))"
   ]
  },
  {
   "cell_type": "code",
   "execution_count": 10,
   "id": "8edef1ce",
   "metadata": {},
   "outputs": [
    {
     "name": "stdout",
     "output_type": "stream",
     "text": [
      "True\n"
     ]
    }
   ],
   "source": [
    "print('hi'>'fg')"
   ]
  },
  {
   "cell_type": "code",
   "execution_count": 16,
   "id": "c0bf1bb8",
   "metadata": {},
   "outputs": [
    {
     "name": "stdout",
     "output_type": "stream",
     "text": [
      "False\n"
     ]
    }
   ],
   "source": [
    "print(1==1 & 2==2)#coz & is a bitwise operator and has more precedence than == so 1&2=0 ,1==0==1,0-> false"
   ]
  },
  {
   "cell_type": "code",
   "execution_count": 17,
   "id": "c26ecde1",
   "metadata": {},
   "outputs": [
    {
     "name": "stdout",
     "output_type": "stream",
     "text": [
      "True\n",
      "False\n"
     ]
    }
   ],
   "source": [
    "#NOTE\n",
    "x=5\n",
    "y=5.0\n",
    "print(x==y)\n",
    "print(x is y)"
   ]
  },
  {
   "cell_type": "code",
   "execution_count": 21,
   "id": "810ec04f",
   "metadata": {},
   "outputs": [
    {
     "name": "stdout",
     "output_type": "stream",
     "text": [
      "0b1010\n",
      "0\n"
     ]
    }
   ],
   "source": [
    "#LOGICAL OPS-COMPARE BOOLEAN\n",
    "#BITWISE OPS-COMPARE BINARY VALUE\n",
    "# print(bin(10))--> bin(int) to get the binary value of the int\n",
    "#print(1&&2)--will give error --> will compare only 2 or more BOOLEAN VALUES\n",
    "print(1&2)"
   ]
  },
  {
   "cell_type": "code",
   "execution_count": 26,
   "id": "0420b38f",
   "metadata": {},
   "outputs": [
    {
     "name": "stdout",
     "output_type": "stream",
     "text": [
      "False\n"
     ]
    }
   ],
   "source": [
    "print(1>2>=0)"
   ]
  },
  {
   "cell_type": "code",
   "execution_count": null,
   "id": "1be1c740",
   "metadata": {},
   "outputs": [],
   "source": []
  }
 ],
 "metadata": {
  "kernelspec": {
   "display_name": "Python 3 (ipykernel)",
   "language": "python",
   "name": "python3"
  },
  "language_info": {
   "codemirror_mode": {
    "name": "ipython",
    "version": 3
   },
   "file_extension": ".py",
   "mimetype": "text/x-python",
   "name": "python",
   "nbconvert_exporter": "python",
   "pygments_lexer": "ipython3",
   "version": "3.8.8"
  }
 },
 "nbformat": 4,
 "nbformat_minor": 5
}
