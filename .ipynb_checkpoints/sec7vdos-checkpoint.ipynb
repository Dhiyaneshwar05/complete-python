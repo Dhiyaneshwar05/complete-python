{
 "cells": [
  {
   "cell_type": "code",
   "execution_count": 9,
   "id": "5317c2a5",
   "metadata": {},
   "outputs": [],
   "source": [
    "def userch():\n",
    "    inp=False\n",
    "    while not inp:\n",
    "        ch=input(\"enter a num [0-10]:\")\n",
    "        if ch.isdigit():\n",
    "            if int(ch) in range(3):\n",
    "                ch=int(ch)\n",
    "                inp=True\n",
    "            else:\n",
    "                print(\" i said ... RANGEEEEEE\")\n",
    "        else:\n",
    "            print(\"i said enter a num between 0-2!!\")\n",
    "        \n",
    "    return ch\n",
    "        "
   ]
  },
  {
   "cell_type": "code",
   "execution_count": 10,
   "id": "2b73bee0",
   "metadata": {},
   "outputs": [],
   "source": [
    "def disp(alist):\n",
    "    print(alist)"
   ]
  },
  {
   "cell_type": "code",
   "execution_count": 11,
   "id": "cf2c0787",
   "metadata": {},
   "outputs": [],
   "source": [
    "def repch(alist,pos):\n",
    "    r=input(\"enter a val to replace:\")\n",
    "    alist[pos]=r\n",
    "    return alist"
   ]
  },
  {
   "cell_type": "code",
   "execution_count": 12,
   "id": "41613b70",
   "metadata": {},
   "outputs": [],
   "source": [
    "def gameon():\n",
    "    g=input(\"do you want to continue(Y or N):\")\n",
    "    while g not in [\"Y\",\"N\"]:\n",
    "        print(\"i don't understand\")\n",
    "    if g==\"Y\":\n",
    "        return True\n",
    "    else:\n",
    "        return False"
   ]
  },
  {
   "cell_type": "code",
   "execution_count": 13,
   "id": "761904a6",
   "metadata": {},
   "outputs": [
    {
     "name": "stdout",
     "output_type": "stream",
     "text": [
      "[' ', ' ', ' ']\n",
      "enter a num [0-10]:one\n",
      "i said enter a num between 0-2!!\n",
      "enter a num [0-10]:45\n",
      " i said ... RANGEEEEEE\n",
      "enter a num [0-10]:1\n",
      "enter a val to replace:one\n",
      "[' ', 'one', ' ']\n",
      "do you want to continue(Y or N):Y\n",
      "[' ', 'one', ' ']\n",
      "enter a num [0-10]:2\n",
      "enter a val to replace:two\n",
      "[' ', 'one', 'two']\n",
      "do you want to continue(Y or N):Y\n",
      "[' ', 'one', 'two']\n",
      "enter a num [0-10]:1\n",
      "enter a val to replace:updatedone\n",
      "[' ', 'updatedone', 'two']\n",
      "do you want to continue(Y or N):N\n"
     ]
    }
   ],
   "source": [
    "g=True\n",
    "alist=[' ',' ',' ']\n",
    "while g:\n",
    "    disp(alist)\n",
    "    \n",
    "    p=userch()\n",
    "    \n",
    "    repch(alist,p)\n",
    "    \n",
    "    disp(alist)\n",
    "    \n",
    "    g=gameon()"
   ]
  },
  {
   "cell_type": "code",
   "execution_count": null,
   "id": "f93a1336",
   "metadata": {},
   "outputs": [],
   "source": []
  },
  {
   "cell_type": "code",
   "execution_count": null,
   "id": "9f9f17d2",
   "metadata": {},
   "outputs": [],
   "source": []
  },
  {
   "cell_type": "code",
   "execution_count": null,
   "id": "0d105ab1",
   "metadata": {},
   "outputs": [],
   "source": []
  },
  {
   "cell_type": "markdown",
   "id": "8f2118aa",
   "metadata": {},
   "source": [
    "# SECTION 8 "
   ]
  },
  {
   "cell_type": "code",
   "execution_count": 24,
   "id": "65af1b5e",
   "metadata": {},
   "outputs": [
    {
     "name": "stdout",
     "output_type": "stream",
     "text": [
      "<class 'int'>\n",
      "<class '__main__.Employee'>\n",
      "hello welcome to our comp!!\n",
      "hello welcome to our comp!!\n"
     ]
    }
   ],
   "source": [
    "#NEED OF CLASS AND etc: CONSIDER AN OFFICE WHICH HAS 100 EMP AND WHEN THEY JOIN IT HAS TO DEF GIVE THEM A \n",
    "#ID AND ASK FOR NAME,AGE etc,THIS IS A BIG PROCESS SO WE SIMPLYFY BY CREATING A EMP CLASS AND OBJS OF\n",
    "# THIS CLASS HAVE ALL THIS ATTRIBUTES AND SOME METHODS\n",
    "\n",
    "#class- blueprint for an object\n",
    "# string ,list ,int are some of the inbuilt classes\n",
    "\n",
    "class Employee:\n",
    "        \n",
    "    def greet(self):\n",
    "        print(\"hello welcome to our comp!!\")\n",
    "\n",
    "\n",
    "emp1=Employee()#creating obj of the employee class\n",
    "emp2=Employee()\n",
    "\n",
    "print(type(1))\n",
    "print(type(emp1))\n",
    "\n",
    "emp1.greet()# here greet() will take emp1 as param and it wil pass that in self\n",
    "Employee.greet(emp1)# but this is what happens backside\n",
    "\n",
    "# there is a neeed to pass emp1 coz it doesn't know gmail of what? so we are saying gmail of emp1 \n"
   ]
  },
  {
   "cell_type": "code",
   "execution_count": 56,
   "id": "c44b56b2",
   "metadata": {},
   "outputs": [
    {
     "name": "stdout",
     "output_type": "stream",
     "text": [
      "i5 8 25000 technology\n",
      "i3 4 30000 technology\n",
      "i5\n",
      "technology\n",
      "technology\n",
      "tech\n",
      "technology\n",
      "tech\n",
      "tech\n",
      "welcome user  1 my cpuspec is  i5\n",
      "welcome user  3 my cpuspec is  i5\n"
     ]
    }
   ],
   "source": [
    "class Computer:\n",
    "    \n",
    "    #class obj attribute (a) class variable\n",
    "    # common for all obj of the class\n",
    "    field=\"technology\"\n",
    "    \n",
    "    def __init__(self,cpu,ram):# its like constructor\n",
    "        #called automatically when an obj of this class is created\n",
    "        self.cpuspec=cpu  # self.anyname -- that anyname will be used to access\n",
    "        self.ramspec=ram # all will be same(ez convention) but to show how it works we changed\n",
    "                         # from this we know we can give any param name but self.thatname wil b used\n",
    "        \n",
    "    def config(self,mrp):# FOR EVERY METHOD IN CLASS WE HAVE TO PASS SELF\n",
    "        self.price=mrp\n",
    "        print(self.cpuspec,self.ramspec,self.price,self.field)\n",
    "        #need of using self.field(class obj attribute) unless its given by user specifically from the user we \n",
    "        #need to use self keyword ,also its a class attr so we can use Computer.field--why it works when\n",
    "        # we give self.field? means since its a class attr every obj(com1) has that so self refers to that and works\n",
    "        \n",
    "    def welcome(self,number):#number doesn't need self coz its not linked with obj attribute ,its given by user\n",
    "        print(\"welcome user \",number,\"my cpuspec is \",self.cpuspec)\n",
    "        \n",
    "        '''self.num=number\n",
    "        \n",
    "    def usernum(self):        #com1.usernum()\n",
    "        print(\"usernum is\",self.num)'''\n",
    "        \n",
    "com1=Computer('i5',8)# passing 2 vals but in init there are 3 args(self)\n",
    "com2=Computer('i3',4)# coz as we seen above com1 is passed as self\n",
    "\n",
    "com1.config(25000)\n",
    "Computer.config(com2,30000)\n",
    "\n",
    "print(com1.cpuspec)\n",
    "#print(com2.cpu)\n",
    "\n",
    "#self is like 'this' in JAVA, self.cpuspec here self is given coz its in generalif any obj passed @that time it wil b self\n",
    "\n",
    "print(com1.field)\n",
    "print(Computer.field)\n",
    "\n",
    "com2.field='tech'\n",
    "print(com2.field)\n",
    "print(com1.field)\n",
    "\n",
    "Computer.field='tech'\n",
    "print(com2.field)\n",
    "print(com1.field)\n",
    "\n",
    "#TO ACCESS THE ATTRIBUTES WHICH ARE CREATED DURING OBJ CREATION WE NEED TO USE \"self.attributename\"\n",
    "#BUT IF IT'S GIVEN BY USER TO AN METHOD OF THAT CLASS(ie not during obj creation) NO NEED OF SELF\n",
    "com1.welcome(1)\n",
    "com1.welcome(3)\n",
    "\n"
   ]
  },
  {
   "cell_type": "code",
   "execution_count": 30,
   "id": "445d7690",
   "metadata": {},
   "outputs": [
    {
     "name": "stdout",
     "output_type": "stream",
     "text": [
      "1\n",
      "6.28\n",
      "3.14\n",
      "10\n",
      "62.800000000000004\n"
     ]
    }
   ],
   "source": [
    "class Circle:\n",
    "    \n",
    "    pi=3.14\n",
    "    \n",
    "    def __init__(self,radius=1):#default val is 1 ,if nothing given.we can override if val is passed as arg\n",
    "        self.radius=radius\n",
    "        self.area=radius**2 * Circle.pi#attribute can even be derived without only params such as radius\n",
    "    def getcirc(self):\n",
    "        return 2*Circle.pi*self.radius\n",
    "    \n",
    "cir1=Circle()\n",
    "print(cir1.radius)\n",
    "print(cir1.getcirc())\n",
    "print(cir1.area)\n",
    "\n",
    "cir2=Circle(10)\n",
    "print(cir2.radius)\n",
    "print(cir2.getcirc())"
   ]
  },
  {
   "cell_type": "code",
   "execution_count": 2,
   "id": "2ca63225",
   "metadata": {},
   "outputs": [],
   "source": [
    "class Animal:\n",
    "    def __init__(self):\n",
    "        print(\"animal created\")\n",
    "        \n",
    "    def whoami(self):\n",
    "        print(\"iam a animal\")\n",
    "    \n",
    "    def eat(self):\n",
    "        print(\"DND animal eating\")"
   ]
  },
  {
   "cell_type": "code",
   "execution_count": 3,
   "id": "31b90831",
   "metadata": {},
   "outputs": [],
   "source": [
    "class Dog(Animal):\n",
    "    def __init__(self):\n",
    "        #Animal.__init__(self)\n",
    "        print(\"dog created\")\n",
    "        \n",
    "    def eat(self):\n",
    "        print(\"i overrided and iam a dog eating\")\n",
    "        \n",
    "    def myself(self):\n",
    "        Animal.whoami(self)# here if we wont pas self as arg it gives error\n",
    "        print(\"iam also a dog\")"
   ]
  },
  {
   "cell_type": "code",
   "execution_count": 4,
   "id": "016272c8",
   "metadata": {},
   "outputs": [
    {
     "name": "stdout",
     "output_type": "stream",
     "text": [
      "dog created\n",
      "iam a animal\n",
      "i overrided and iam a dog eating\n",
      "iam a animal\n",
      "iam also a dog\n"
     ]
    }
   ],
   "source": [
    "d1=Dog()\n",
    "d1.whoami()#from base class\n",
    "d1.eat()\n",
    "d1.myself()"
   ]
  },
  {
   "cell_type": "code",
   "execution_count": null,
   "id": "c1d5c4a0",
   "metadata": {},
   "outputs": [],
   "source": []
  },
  {
   "cell_type": "code",
   "execution_count": 101,
   "id": "7b71c4b9",
   "metadata": {},
   "outputs": [],
   "source": [
    "class A():\n",
    "    def __init__(self):\n",
    "        self.A_var='var a'\n",
    "        print(\"iam inside init of class-A\")\n",
    "        \n",
    "    def methA(self,x,y):\n",
    "        print(\"iam inside meth A\")\n",
    "        self.z=x+y#remember dont need to give self for x,y if does it gives error\n",
    "        print(self.z)\n",
    "        self.l=x+y"
   ]
  },
  {
   "cell_type": "code",
   "execution_count": 102,
   "id": "c73b50c9",
   "metadata": {},
   "outputs": [],
   "source": [
    "class B(A):\n",
    "    def __init__(self):\n",
    "        A.__init__(self)\n",
    "        self.B_var='var b'\n",
    "        print(\"iam inside init of class-B\")\n",
    "        \n",
    "    def methB(self):\n",
    "    \n",
    "        print(\"iam inside meth B\")\n",
    "        self.r=obj0.z\n",
    "        print(self.r)"
   ]
  },
  {
   "cell_type": "code",
   "execution_count": 103,
   "id": "8e14d053",
   "metadata": {},
   "outputs": [
    {
     "name": "stdout",
     "output_type": "stream",
     "text": [
      "iam inside init of class-A\n",
      "iam inside meth A\n",
      "3\n"
     ]
    },
    {
     "data": {
      "text/plain": [
       "3"
      ]
     },
     "execution_count": 103,
     "metadata": {},
     "output_type": "execute_result"
    }
   ],
   "source": [
    "obj0=A()\n",
    "obj0.methA(1,2)\n",
    "obj0.A_var\n",
    "obj0.z"
   ]
  },
  {
   "cell_type": "code",
   "execution_count": 104,
   "id": "524a05ba",
   "metadata": {},
   "outputs": [
    {
     "name": "stdout",
     "output_type": "stream",
     "text": [
      "iam inside init of class-A\n",
      "iam inside init of class-B\n"
     ]
    }
   ],
   "source": [
    "obj1=B()"
   ]
  },
  {
   "cell_type": "code",
   "execution_count": 105,
   "id": "b967fc9a",
   "metadata": {},
   "outputs": [
    {
     "name": "stdout",
     "output_type": "stream",
     "text": [
      "iam inside meth B\n",
      "3\n"
     ]
    }
   ],
   "source": [
    "obj1.methB()"
   ]
  },
  {
   "cell_type": "code",
   "execution_count": 106,
   "id": "0030e310",
   "metadata": {},
   "outputs": [
    {
     "ename": "AttributeError",
     "evalue": "'B' object has no attribute 'l'",
     "output_type": "error",
     "traceback": [
      "\u001b[1;31m---------------------------------------------------------------------------\u001b[0m",
      "\u001b[1;31mAttributeError\u001b[0m                            Traceback (most recent call last)",
      "\u001b[1;32m<ipython-input-106-d867eaa7a2de>\u001b[0m in \u001b[0;36m<module>\u001b[1;34m\u001b[0m\n\u001b[1;32m----> 1\u001b[1;33m \u001b[0mobj1\u001b[0m\u001b[1;33m.\u001b[0m\u001b[0ml\u001b[0m\u001b[1;33m\u001b[0m\u001b[1;33m\u001b[0m\u001b[0m\n\u001b[0m",
      "\u001b[1;31mAttributeError\u001b[0m: 'B' object has no attribute 'l'"
     ]
    }
   ],
   "source": [
    "obj1.l"
   ]
  },
  {
   "cell_type": "code",
   "execution_count": 109,
   "id": "e39fadd1",
   "metadata": {},
   "outputs": [
    {
     "name": "stdout",
     "output_type": "stream",
     "text": [
      "3\n",
      "var a\n"
     ]
    }
   ],
   "source": [
    "print(obj0.l)\n",
    "print(obj0.A_var)"
   ]
  },
  {
   "cell_type": "code",
   "execution_count": 100,
   "id": "f9777348",
   "metadata": {},
   "outputs": [
    {
     "ename": "AttributeError",
     "evalue": "type object 'A' has no attribute 'l'",
     "output_type": "error",
     "traceback": [
      "\u001b[1;31m---------------------------------------------------------------------------\u001b[0m",
      "\u001b[1;31mAttributeError\u001b[0m                            Traceback (most recent call last)",
      "\u001b[1;32m<ipython-input-100-ff607d3d3149>\u001b[0m in \u001b[0;36m<module>\u001b[1;34m\u001b[0m\n\u001b[1;32m----> 1\u001b[1;33m \u001b[0mA\u001b[0m\u001b[1;33m.\u001b[0m\u001b[0ml\u001b[0m\u001b[1;33m\u001b[0m\u001b[1;33m\u001b[0m\u001b[0m\n\u001b[0m",
      "\u001b[1;31mAttributeError\u001b[0m: type object 'A' has no attribute 'l'"
     ]
    }
   ],
   "source": [
    "A.l\n"
   ]
  },
  {
   "cell_type": "code",
   "execution_count": null,
   "id": "4602830b",
   "metadata": {},
   "outputs": [],
   "source": []
  }
 ],
 "metadata": {
  "kernelspec": {
   "display_name": "Python 3",
   "language": "python",
   "name": "python3"
  },
  "language_info": {
   "codemirror_mode": {
    "name": "ipython",
    "version": 3
   },
   "file_extension": ".py",
   "mimetype": "text/x-python",
   "name": "python",
   "nbconvert_exporter": "python",
   "pygments_lexer": "ipython3",
   "version": "3.8.8"
  }
 },
 "nbformat": 4,
 "nbformat_minor": 5
}
