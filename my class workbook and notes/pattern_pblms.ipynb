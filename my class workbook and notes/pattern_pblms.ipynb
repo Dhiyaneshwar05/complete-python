{
 "cells": [
  {
   "cell_type": "code",
   "execution_count": null,
   "id": "1c60748b",
   "metadata": {},
   "outputs": [],
   "source": []
  },
  {
   "cell_type": "code",
   "execution_count": null,
   "id": "a5106baa",
   "metadata": {},
   "outputs": [],
   "source": []
  },
  {
   "cell_type": "code",
   "execution_count": 2,
   "id": "84e34185",
   "metadata": {},
   "outputs": [
    {
     "name": "stdout",
     "output_type": "stream",
     "text": [
      "enter a number: 5\n",
      "*\n",
      "**\n",
      "***\n",
      "****\n",
      "*****\n"
     ]
    }
   ],
   "source": [
    "n=int(input(\"enter a number: \"))\n",
    "for i in range(1,n+1):\n",
    "    for j in range(i):\n",
    "        print(\"*\",end=\"\")\n",
    "    print(\"\")"
   ]
  },
  {
   "cell_type": "code",
   "execution_count": 15,
   "id": "560fb5cf",
   "metadata": {},
   "outputs": [
    {
     "name": "stdout",
     "output_type": "stream",
     "text": [
      "enter a m:5\n",
      "*****\n",
      "****\n",
      "***\n",
      "**\n",
      "*\n"
     ]
    }
   ],
   "source": [
    "m=int(input(\"enter a m:\"))\n",
    "for i in range(1,m+1):\n",
    "    for j in range(1):\n",
    "        print((m-i+1)*'*',end=\"\")\n",
    "    print(\"\")\n"
   ]
  },
  {
   "cell_type": "code",
   "execution_count": 21,
   "id": "1ed39488",
   "metadata": {},
   "outputs": [
    {
     "name": "stdout",
     "output_type": "stream",
     "text": [
      "enter a num: 5\n",
      "####*\n",
      "###***\n",
      "##*****\n",
      "#*******\n",
      "*********\n"
     ]
    }
   ],
   "source": [
    "n=int(input(\"enter a num: \"))\n",
    "for i in range(1,n+1):\n",
    "    for j in range(1):\n",
    "        print((n-i)*'#',end=\"\")\n",
    "        \n",
    "    for k in range(i):\n",
    "        print('*',end=\"\")\n",
    "    \n",
    "    for a in range(i-1):\n",
    "        print(\"*\",end=\"\")\n",
    "    print(\"\")\n",
    "        "
   ]
  },
  {
   "cell_type": "code",
   "execution_count": 1,
   "id": "a55ff200",
   "metadata": {},
   "outputs": [
    {
     "name": "stdout",
     "output_type": "stream",
     "text": [
      "enter a number: 5\n",
      "    *\n",
      "   ***\n",
      "  *****\n",
      " *******\n",
      "*********\n",
      " *******\n",
      "  *****\n",
      "   ***\n",
      "    *\n"
     ]
    }
   ],
   "source": [
    "n= int(input(\"enter a number: \"))\n",
    "for i in range(1,n+1):\n",
    "    for j in range(1):\n",
    "        print((n-i)*' ',end=\"\")\n",
    "        \n",
    "    for k in range(i):\n",
    "        print(\"*\",end=\"\")\n",
    "        \n",
    "    for a in range(i-1):\n",
    "        print(\"*\",end=\"\")\n",
    "        \n",
    "    print(\"\")\n",
    "for i2 in range(1,n):\n",
    "    for j2 in range(1):\n",
    "        print(i2*\" \",end=\"\")\n",
    "    \n",
    "    for k2 in range(1):\n",
    "        print((2*(n-i2)-1)*'*',end=\"\")\n",
    "    \n",
    "    ''''for k3 in range(1):\n",
    "        print((n-i2-1)*'*',end=\"\")'''\n",
    "        \n",
    "    print(\"\")"
   ]
  },
  {
   "cell_type": "code",
   "execution_count": null,
   "id": "aa6cd2ee",
   "metadata": {},
   "outputs": [],
   "source": []
  }
 ],
 "metadata": {
  "kernelspec": {
   "display_name": "Python 3",
   "language": "python",
   "name": "python3"
  },
  "language_info": {
   "codemirror_mode": {
    "name": "ipython",
    "version": 3
   },
   "file_extension": ".py",
   "mimetype": "text/x-python",
   "name": "python",
   "nbconvert_exporter": "python",
   "pygments_lexer": "ipython3",
   "version": "3.8.8"
  }
 },
 "nbformat": 4,
 "nbformat_minor": 5
}
