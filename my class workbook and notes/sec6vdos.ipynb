{
 "cells": [
  {
   "cell_type": "markdown",
   "id": "1c684e16",
   "metadata": {},
   "source": [
    "# https://docs.python.org/3/ <-- doc(very useful)\n",
    "## https://edabit.com/challenges/python3 <- (practice) \n",
    "## https://www.tutorialspoint.com/difference-between-method-and-function-in-python \n",
    "# what is diff b/w function and method see cmts in 1st 2 vdos"
   ]
  },
  {
   "cell_type": "code",
   "execution_count": 1,
   "id": "70ddf53f",
   "metadata": {},
   "outputs": [],
   "source": [
    "# we can shift +tab to know more abt a function \n",
    "# or help(mylist.count())-- will also do the same"
   ]
  },
  {
   "cell_type": "code",
   "execution_count": 4,
   "id": "8a7c4566",
   "metadata": {},
   "outputs": [],
   "source": [
    "#What does the operation s.index(x[, i[, j]])\n",
    "#No, it's not the index of each object. The square brackets are there to indicate that those \n",
    "#other parameters are optional, you don't actually use them when you use the method. i and j are a start and stop value. \n"
   ]
  },
  {
   "cell_type": "markdown",
   "id": "6dbe0fc0",
   "metadata": {},
   "source": [
    "#### see cmts of 41 vdo -guess game"
   ]
  },
  {
   "cell_type": "code",
   "execution_count": 5,
   "id": "1f80646a",
   "metadata": {},
   "outputs": [
    {
     "name": "stdout",
     "output_type": "stream",
     "text": [
      "1\n"
     ]
    },
    {
     "data": {
      "text/plain": [
       "NoneType"
      ]
     },
     "execution_count": 5,
     "metadata": {},
     "output_type": "execute_result"
    }
   ],
   "source": [
    "type(print(1))"
   ]
  },
  {
   "cell_type": "code",
   "execution_count": 1,
   "id": "2dba2a3f",
   "metadata": {},
   "outputs": [],
   "source": [
    "def say_hello(name):\n",
    "    print(\"hello \",name)\n",
    "    print(\"welcome\")"
   ]
  },
  {
   "cell_type": "code",
   "execution_count": 2,
   "id": "928c81c9",
   "metadata": {},
   "outputs": [
    {
     "data": {
      "text/plain": [
       "<function __main__.say_hello(name)>"
      ]
     },
     "execution_count": 2,
     "metadata": {},
     "output_type": "execute_result"
    }
   ],
   "source": [
    "say_hello"
   ]
  },
  {
   "cell_type": "code",
   "execution_count": 3,
   "id": "0eaae615",
   "metadata": {},
   "outputs": [
    {
     "name": "stdout",
     "output_type": "stream",
     "text": [
      "hello  dhiyanu\n",
      "welcome\n"
     ]
    }
   ],
   "source": [
    "say_hello('dhiyanu')"
   ]
  },
  {
   "cell_type": "code",
   "execution_count": 4,
   "id": "c431c291",
   "metadata": {},
   "outputs": [
    {
     "ename": "TypeError",
     "evalue": "say_hello() missing 1 required positional argument: 'name'",
     "output_type": "error",
     "traceback": [
      "\u001b[1;31m---------------------------------------------------------------------------\u001b[0m",
      "\u001b[1;31mTypeError\u001b[0m                                 Traceback (most recent call last)",
      "\u001b[1;32m<ipython-input-4-faa5fc24272a>\u001b[0m in \u001b[0;36m<module>\u001b[1;34m\u001b[0m\n\u001b[1;32m----> 1\u001b[1;33m \u001b[0msay_hello\u001b[0m\u001b[1;33m(\u001b[0m\u001b[1;33m)\u001b[0m\u001b[1;33m\u001b[0m\u001b[1;33m\u001b[0m\u001b[0m\n\u001b[0m",
      "\u001b[1;31mTypeError\u001b[0m: say_hello() missing 1 required positional argument: 'name'"
     ]
    }
   ],
   "source": [
    "say_hello()"
   ]
  },
  {
   "cell_type": "code",
   "execution_count": 5,
   "id": "388648b1",
   "metadata": {},
   "outputs": [],
   "source": [
    "def say_hello(name=\"user\"):\n",
    "    print(\"helllo \",name)"
   ]
  },
  {
   "cell_type": "code",
   "execution_count": 6,
   "id": "dda746b6",
   "metadata": {},
   "outputs": [
    {
     "name": "stdout",
     "output_type": "stream",
     "text": [
      "helllo  user\n"
     ]
    }
   ],
   "source": [
    "say_hello()"
   ]
  },
  {
   "cell_type": "markdown",
   "id": "2922f383",
   "metadata": {},
   "source": [
    "### careful with datatypes on taking input and giving input to functions\n",
    "### what is diff between static and dynamic typing in programming __> searchnet and see in vdo-44\n",
    "\n",
    "### remember, statements after return wont work if return is executed\n",
    "### also after continue is executed control goes back to loop so in this case also rem lines wont run\n",
    "\n",
    "### IN PYHTON WE CAN RETURN MORE THAN ONE VALUE USING A SINGLE RETURN STATEMENT\n",
    "### or else we can return a single tuple and unpack later "
   ]
  },
  {
   "cell_type": "code",
   "execution_count": 24,
   "id": "ecadee3f",
   "metadata": {},
   "outputs": [],
   "source": [
    "# NOTE SEE THIS - this finds num of even nos in list if so it prints true\n",
    "def even_list(mlist):\n",
    "    ce=0\n",
    "    el=[]\n",
    "    for i in mlist:\n",
    "        if i%2==0:\n",
    "            ce+=1\n",
    "            el.append(i)\n",
    "    return bool(ce),ce,el\n",
    "    "
   ]
  },
  {
   "cell_type": "code",
   "execution_count": 25,
   "id": "6f140e76",
   "metadata": {},
   "outputs": [
    {
     "data": {
      "text/plain": [
       "(True, 2, [2, 4])"
      ]
     },
     "execution_count": 25,
     "metadata": {},
     "output_type": "execute_result"
    }
   ],
   "source": [
    "even_list([1,2,4])#TRUE - IT CONTAINS EVEN NOS AND ITS COUNT IS 2"
   ]
  },
  {
   "cell_type": "code",
   "execution_count": 26,
   "id": "6475334a",
   "metadata": {},
   "outputs": [
    {
     "data": {
      "text/plain": [
       "(False, 0, [])"
      ]
     },
     "execution_count": 26,
     "metadata": {},
     "output_type": "execute_result"
    }
   ],
   "source": [
    "even_list([9,7,3])"
   ]
  },
  {
   "cell_type": "code",
   "execution_count": 29,
   "id": "c0e430cf",
   "metadata": {},
   "outputs": [],
   "source": [
    "#another ez method\n",
    "def even_list(mlist):\n",
    "    ce=0\n",
    "    el=[x for x in mlist if x%2==0 ]\n",
    "    return bool(el),len(el),el\n",
    "    \n",
    "#IF LIST IS EMPTY THEN bool(LIST) IS FALSE ,ELSE TRUE"
   ]
  },
  {
   "cell_type": "code",
   "execution_count": 30,
   "id": "83b1a536",
   "metadata": {},
   "outputs": [
    {
     "data": {
      "text/plain": [
       "(True, 3, [4, 2, 10])"
      ]
     },
     "execution_count": 30,
     "metadata": {},
     "output_type": "execute_result"
    }
   ],
   "source": [
    "even_list([1,4,5,2,7,10])"
   ]
  },
  {
   "cell_type": "code",
   "execution_count": 31,
   "id": "2e58aa6c",
   "metadata": {},
   "outputs": [],
   "source": [
    "#TUPLE UNPACKING WITH PY AND MULTIPLE RETURN "
   ]
  },
  {
   "cell_type": "code",
   "execution_count": 32,
   "id": "1532ce44",
   "metadata": {},
   "outputs": [],
   "source": [
    "work_hours = [('John Lennon', 150),('Paul McCartney', 300),('George Harrison', 120),('Ringo Starr',300),('Alice Cooper',120),('David Bowie',300)]\n",
    "def employee_check(work_hours):\n",
    "\n",
    "    current = 0\n",
    "\n",
    "    lst_best = []\n",
    "\n",
    "    for employee,hours in work_hours:\n",
    "\n",
    "        if hours > current:\n",
    "\n",
    "            lst_best.clear()\n",
    "\n",
    "            lst_best.append((employee,hours))\n",
    "\n",
    "            current = hours\n",
    "\n",
    "        elif hours == current:\n",
    "\n",
    "            lst_best.append((employee,hours))\n",
    "\n",
    "        else:\n",
    "\n",
    "            pass           \n",
    "\n",
    "    return lst_best"
   ]
  },
  {
   "cell_type": "code",
   "execution_count": 33,
   "id": "ed0155ef",
   "metadata": {},
   "outputs": [
    {
     "data": {
      "text/plain": [
       "[('Paul McCartney', 300), ('Ringo Starr', 300), ('David Bowie', 300)]"
      ]
     },
     "execution_count": 33,
     "metadata": {},
     "output_type": "execute_result"
    }
   ],
   "source": [
    "employee_check(work_hours)"
   ]
  },
  {
   "cell_type": "markdown",
   "id": "6a323c42",
   "metadata": {},
   "source": [
    "### **recursion try**"
   ]
  },
  {
   "cell_type": "code",
   "execution_count": 54,
   "id": "205d8738",
   "metadata": {},
   "outputs": [],
   "source": [
    "from random import shuffle \n",
    "g=[' ','O',' ']\n",
    "\n",
    "\n",
    "def shuffle_game(g,guess):\n",
    "    shuffle(g)\n",
    "    ng=g\n",
    "    if(ng[guess]=='O'):\n",
    "        print(\"superhero\",ng)\n",
    "    else:\n",
    "        print(ng,\"dumbass\")\n",
    "        c=input(\"wanna try again press s:\")\n",
    "        if c=='s':\n",
    "            guess=int(input(\"guess position:\"))\n",
    "            shuffle_game(g,guess)\n",
    "                "
   ]
  },
  {
   "cell_type": "code",
   "execution_count": 55,
   "id": "352bb229",
   "metadata": {},
   "outputs": [
    {
     "name": "stdout",
     "output_type": "stream",
     "text": [
      "[' ', ' ', 'O'] dumbass\n",
      "wanna try again press s:s\n",
      "guess position:0\n",
      "[' ', 'O', ' '] dumbass\n",
      "wanna try again press s:0\n"
     ]
    }
   ],
   "source": [
    "shuffle_game(g,1)"
   ]
  },
  {
   "cell_type": "code",
   "execution_count": 61,
   "id": "9477f66e",
   "metadata": {},
   "outputs": [
    {
     "name": "stdout",
     "output_type": "stream",
     "text": [
      "enter guess:2\n",
      "wrong  ['O', ' ', ' '] 2\n"
     ]
    }
   ],
   "source": [
    "\n",
    "from random import shuffle\n",
    "li=[' ','O',' ']\n",
    "\n",
    "def shuffle_list(li):\n",
    "    shuffle(li)\n",
    "    return li\n",
    "\n",
    "def game_guess():\n",
    "    guess=''\n",
    "    while guess not in ['0','1','2']:\n",
    "        guess=input(\"enter guess:\")\n",
    "    return int(guess)\n",
    "\n",
    "def check_guess(ml,guess):\n",
    "    if(ml[guess]=='O'):\n",
    "        print(\"correct guess\")\n",
    "    else:\n",
    "        print(\"wrong \",ml,guess)\n",
    "    \n",
    "    \n",
    "ml=shuffle_list(li)\n",
    "gue=game_guess()\n",
    "check_guess(ml,gue)\n"
   ]
  },
  {
   "cell_type": "markdown",
   "id": "1868e46d",
   "metadata": {},
   "source": [
    "##  *** args and ****kwargs"
   ]
  },
  {
   "cell_type": "code",
   "execution_count": 7,
   "id": "172a3342",
   "metadata": {},
   "outputs": [
    {
     "name": "stdout",
     "output_type": "stream",
     "text": [
      "3\n",
      "10\n"
     ]
    },
    {
     "ename": "TypeError",
     "evalue": "myfunc() takes from 2 to 4 positional arguments but 5 were given",
     "output_type": "error",
     "traceback": [
      "\u001b[1;31m---------------------------------------------------------------------------\u001b[0m",
      "\u001b[1;31mTypeError\u001b[0m                                 Traceback (most recent call last)",
      "\u001b[1;32m<ipython-input-7-79a97a99579b>\u001b[0m in \u001b[0;36m<module>\u001b[1;34m\u001b[0m\n\u001b[0;32m      3\u001b[0m \u001b[0mprint\u001b[0m\u001b[1;33m(\u001b[0m\u001b[0mmyfunc\u001b[0m\u001b[1;33m(\u001b[0m\u001b[1;36m1\u001b[0m\u001b[1;33m,\u001b[0m\u001b[1;36m2\u001b[0m\u001b[1;33m)\u001b[0m\u001b[1;33m)\u001b[0m\u001b[1;33m\u001b[0m\u001b[1;33m\u001b[0m\u001b[0m\n\u001b[0;32m      4\u001b[0m \u001b[0mprint\u001b[0m\u001b[1;33m(\u001b[0m\u001b[0mmyfunc\u001b[0m\u001b[1;33m(\u001b[0m\u001b[1;36m1\u001b[0m\u001b[1;33m,\u001b[0m\u001b[1;36m2\u001b[0m\u001b[1;33m,\u001b[0m\u001b[1;36m3\u001b[0m\u001b[1;33m,\u001b[0m\u001b[1;36m4\u001b[0m\u001b[1;33m)\u001b[0m\u001b[1;33m)\u001b[0m\u001b[1;33m\u001b[0m\u001b[1;33m\u001b[0m\u001b[0m\n\u001b[1;32m----> 5\u001b[1;33m \u001b[0mprint\u001b[0m\u001b[1;33m(\u001b[0m\u001b[0mmyfunc\u001b[0m\u001b[1;33m(\u001b[0m\u001b[1;36m1\u001b[0m\u001b[1;33m,\u001b[0m\u001b[1;36m2\u001b[0m\u001b[1;33m,\u001b[0m\u001b[1;36m3\u001b[0m\u001b[1;33m,\u001b[0m\u001b[1;36m4\u001b[0m\u001b[1;33m,\u001b[0m\u001b[1;36m5\u001b[0m\u001b[1;33m)\u001b[0m\u001b[1;33m)\u001b[0m\u001b[1;33m\u001b[0m\u001b[1;33m\u001b[0m\u001b[0m\n\u001b[0m",
      "\u001b[1;31mTypeError\u001b[0m: myfunc() takes from 2 to 4 positional arguments but 5 were given"
     ]
    }
   ],
   "source": [
    "def myfunc(a,b,c=0,d=0):\n",
    "    return sum((a,b,c,d))\n",
    "print(myfunc(1,2))\n",
    "print(myfunc(1,2,3,4))\n",
    "print(myfunc(1,2,3,4,5))"
   ]
  },
  {
   "cell_type": "markdown",
   "id": "5ce01e39",
   "metadata": {},
   "source": [
    "### so in order to overcome this we use *args see that we STORE ARGUMENTS IN A TUPLE NAMED args(we can give any name) \n",
    "## var length arg- *args\n",
    "## var length arg with keywords- **kwargs -- arbitrary num of args accepted- no neeed to say num of args before hand\n",
    "**ALSO NOTE THAT SUM() TAKES TUPLE ANS AN INPUT NOT INTEGER\n",
    "### if we are combining args and kwargs first give args then only kwargs changing the order gives ERROR"
   ]
  },
  {
   "cell_type": "code",
   "execution_count": 5,
   "id": "9ecf8713",
   "metadata": {},
   "outputs": [
    {
     "name": "stdout",
     "output_type": "stream",
     "text": [
      "(1, 2, 3, 4)\n",
      "10\n",
      "(1, 2)\n",
      "3\n"
     ]
    }
   ],
   "source": [
    "def myfunc1(*args):#can b any name\n",
    "    print(args)\n",
    "    return sum(args)\n",
    "\n",
    "print(myfunc1(1,2,3,4))\n",
    "#print(args) --> REMEMBER THIS WILL GIVE ERR COZ ITS DEFINED ONLY INTO THAT FUNCTION myfunc1()\n",
    "print(myfunc1(1,2))"
   ]
  },
  {
   "cell_type": "code",
   "execution_count": 9,
   "id": "52b042d9",
   "metadata": {},
   "outputs": [],
   "source": [
    "def myfunc2(**kwargs):\n",
    "    print(kwargs)\n",
    "    if 'hello' in kwargs:\n",
    "        print(\"found\")\n",
    "    else:\n",
    "        print(\"not found\")"
   ]
  },
  {
   "cell_type": "code",
   "execution_count": 12,
   "id": "5f9d51a6",
   "metadata": {},
   "outputs": [
    {
     "name": "stdout",
     "output_type": "stream",
     "text": [
      "{'a': 'fruit', 'b': 'not'}\n",
      "not found\n"
     ]
    }
   ],
   "source": [
    "myfunc2(a='fruit',b='not')"
   ]
  },
  {
   "cell_type": "code",
   "execution_count": 14,
   "id": "5aa0d66a",
   "metadata": {},
   "outputs": [
    {
     "name": "stdout",
     "output_type": "stream",
     "text": [
      "dhiyan\n",
      "(19, 'india', 'US')\n"
     ]
    }
   ],
   "source": [
    "def myfunc3(name,*other):\n",
    "    print(name)\n",
    "    print(other)\n",
    "\n",
    "myfunc3('dhiyan',19,'india','US')"
   ]
  },
  {
   "cell_type": "code",
   "execution_count": 24,
   "id": "179f5855",
   "metadata": {},
   "outputs": [
    {
     "name": "stdout",
     "output_type": "stream",
     "text": [
      "dhiyanesh\n",
      "{'age': 19, 'nationality': 'india', 'studied_at': 'US'}\n",
      "dict_items([('age', 19), ('nationality', 'india'), ('studied_at', 'US')]) <class 'dict_items'>\n",
      "age : 19\n",
      "nationality : india\n",
      "studied_at : US\n"
     ]
    }
   ],
   "source": [
    "def myfunc4(name,**others):\n",
    "    print(name)\n",
    "    print(others)\n",
    "    print(others.items(), type(others.items()))\n",
    "    for i,j in others.items():\n",
    "        print(i,':',j)\n",
    "    \n",
    "myfunc4('dhiyanesh',age=19,nationality='india',studied_at='US')\n",
    "#NOTE 'nationality' gives error shld type without paraenthesis during function call\n",
    "## SEE WITH KEYWORDS ITS MORE EZ AND LESS CONFUSING (2 countries gives dont know which is what in myfunc3 but known in myfunc4)"
   ]
  },
  {
   "cell_type": "code",
   "execution_count": 32,
   "id": "8dcfb8ec",
   "metadata": {},
   "outputs": [],
   "source": [
    "# don;t change order of args and kwargs during def and also during calling\n",
    "def myfunc5(*names,**details):\n",
    "    print(names)\n",
    "    print(details)\n",
    "    print(\"my firstname is {} my age detail{} \".format(names[0],details['age']))"
   ]
  },
  {
   "cell_type": "code",
   "execution_count": 33,
   "id": "bd6b214c",
   "metadata": {},
   "outputs": [
    {
     "name": "stdout",
     "output_type": "stream",
     "text": [
      "('dhiyanesh', 'war', 'G')\n",
      "{'gender': 'M', 'age': '19', 'color': 'brown'}\n",
      "my firstname is dhiyanesh my age detail19 \n"
     ]
    }
   ],
   "source": [
    "myfunc5('dhiyanesh','war','G',gender='M',age='19',color='brown')"
   ]
  },
  {
   "cell_type": "markdown",
   "id": "4eac4e6d",
   "metadata": {},
   "source": [
    "## see how to join list to form a string"
   ]
  },
  {
   "cell_type": "code",
   "execution_count": 10,
   "id": "38900499",
   "metadata": {},
   "outputs": [
    {
     "name": "stdout",
     "output_type": "stream",
     "text": [
      "['-1', '-10', '-3', '2', '4', '5']\n",
      "[-10, -3, -1, 2, 4, 5]\n"
     ]
    }
   ],
   "source": [
    "#SORTING WITH -VE NOS IN A STR FORMAT IN A LIST GIVES WRONG RESULT SO MAP THAT TO INT() TO GET CRT RESULT\n",
    "li=['-1','-3','-10','5','4','2']\n",
    "li.sort()\n",
    "print(li)\n",
    "nl=list(map(int,li))\n",
    "nl.sort()\n",
    "print(nl)\n"
   ]
  },
  {
   "cell_type": "code",
   "execution_count": 15,
   "id": "f20a108f",
   "metadata": {},
   "outputs": [
    {
     "name": "stdout",
     "output_type": "stream",
     "text": [
      "dhiyanu hello\n",
      "raj hello\n",
      "\n",
      "\n",
      "['dhiyan hello', 'raj hello', 'kamal hello']\n",
      "\n",
      "\n",
      "dhiyan hello\n",
      "raj hello\n",
      "kamal hello\n"
     ]
    }
   ],
   "source": [
    "#MAP,FILTER,LAMBDA\n",
    "def greet(name):\n",
    "    return name+' hello'\n",
    "print(greet('dhiyanu'))\n",
    "print(greet('raj'))\n",
    "print('\\n')\n",
    "#instead we can use\n",
    "names=['dhiyan','raj','kamal']\n",
    "print(list(map(greet,names)))\n",
    "#or \n",
    "print('\\n')\n",
    "for i in list(map(greet,names)):\n",
    "    print(i)"
   ]
  },
  {
   "cell_type": "markdown",
   "id": "475d301c",
   "metadata": {},
   "source": [
    "## filter map lambda -telusko vdo \n",
    "## collections in python"
   ]
  },
  {
   "cell_type": "code",
   "execution_count": 45,
   "id": "1a84e89c",
   "metadata": {},
   "outputs": [
    {
     "name": "stdout",
     "output_type": "stream",
     "text": [
      "['a', 'b', 'c', 'd', 'e', 'f', 'g', 'h', 'i', 'j', 'k', 'l', 'm', 'n', 'o', 'p', 'q', 'r', 's', 't', 'u', 'v', 'w', 'x', 'y', 'z']\n",
      "True\n"
     ]
    }
   ],
   "source": [
    "import string\n",
    "st=\"the quick brown fox jumps over the lazy dog\"\n",
    "#st=\" hi my name is\"\n",
    "st=st.replace(\" \",\"\")\n",
    "#print(st)\n",
    "li=list(set(map(lambda x:x,st)))\n",
    "li.sort()\n",
    "print(li)\n",
    "print(''.join(li)==string.ascii_lowercase)\n",
    "#print(n)"
   ]
  },
  {
   "cell_type": "markdown",
   "id": "9b858894",
   "metadata": {},
   "source": [
    "## how to convert a list of string to a list of int \n",
    "## that error while giving map(int,li) that invalid base 10 h ..\n",
    "## remember that join() method is little bit diff from other in passing args"
   ]
  },
  {
   "cell_type": "code",
   "execution_count": null,
   "id": "de5b83c9",
   "metadata": {},
   "outputs": [],
   "source": []
  },
  {
   "cell_type": "code",
   "execution_count": 4,
   "id": "32bd24d3",
   "metadata": {},
   "outputs": [
    {
     "name": "stdout",
     "output_type": "stream",
     "text": [
      "['h', 'i', ' ', 'i', 'a', 'm', ' ', 'd', 'h', 'i', 'y', 'a', 'n', 'u']\n",
      "hi iam dhiyanu\n"
     ]
    }
   ],
   "source": [
    "#HERE WE EXPECT TO REVERSE THE STRING BUT ACTUALLY \n",
    "# SINCE string IS AN ITERABLE OBJ,LETTER BY LETTER IS PASSED \n",
    "#PASSED TO THE LAMBDA AND REV IT GIVES SAME CHAR\n",
    "\n",
    "s='hi iam dhiyanu'\n",
    "print(list(map(lambda x:x[::-1],s)))\n",
    "print(''.join(list(map(lambda x:x[::-1],s))))"
   ]
  },
  {
   "cell_type": "markdown",
   "id": "8e254943",
   "metadata": {},
   "source": [
    "# NOTE:using if and else in a lambda expression\n",
    "https://stackoverflow.com/questions/1585322/is-there-a-way-to-perform-if-in-pythons-lambda \n",
    "https://thispointer.com/python-how-to-use-if-else-elif-in-lambda-functions/ "
   ]
  },
  {
   "cell_type": "code",
   "execution_count": 11,
   "id": "2dbcbcaa",
   "metadata": {},
   "outputs": [
    {
     "data": {
      "text/plain": [
       "[False, True, False, True, False, True]"
      ]
     },
     "execution_count": 11,
     "metadata": {},
     "output_type": "execute_result"
    }
   ],
   "source": [
    "list(map(lambda x:True if x%2==0 else False,[1,2,3,4,5,6]))"
   ]
  },
  {
   "cell_type": "code",
   "execution_count": 13,
   "id": "e0ec4c45",
   "metadata": {},
   "outputs": [
    {
     "data": {
      "text/plain": [
       "['ODD', 'EVEN', 'ODD', 'EVEN', 'ODD', 'EVEN']"
      ]
     },
     "execution_count": 13,
     "metadata": {},
     "output_type": "execute_result"
    }
   ],
   "source": [
    "list(map(lambda x:\"EVEN\" if x%2==0 else \"ODD\",[1,2,3,4,5,6]))"
   ]
  },
  {
   "cell_type": "code",
   "execution_count": 14,
   "id": "e5d02522",
   "metadata": {},
   "outputs": [
    {
     "name": "stdout",
     "output_type": "stream",
     "text": [
      "ODD\n",
      "EVEN\n",
      "ODD\n",
      "EVEN\n"
     ]
    },
    {
     "data": {
      "text/plain": [
       "[None, None, None, None]"
      ]
     },
     "execution_count": 14,
     "metadata": {},
     "output_type": "execute_result"
    }
   ],
   "source": [
    "list(map(lambda x:print('EVEN') if x%2==0 else print(\"ODD\"),[1,2,3,4]))"
   ]
  },
  {
   "cell_type": "code",
   "execution_count": 6,
   "id": "7f6979ea",
   "metadata": {},
   "outputs": [
    {
     "name": "stdout",
     "output_type": "stream",
     "text": [
      "\n",
      "Original lists:\n",
      "['Red', 'Green', 'Blue', 'White', 'Black']\n",
      "\n",
      "Reverse strings of the said given list:\n",
      "[<reversed object at 0x000001F622AFE040>, <reversed object at 0x000001F622AFE100>, <reversed object at 0x000001F622AFE130>, <reversed object at 0x000001F622AFE5B0>, <reversed object at 0x000001F622AFE670>]\n"
     ]
    }
   ],
   "source": [
    "def reverse_strings_list(string_list):\n",
    "    result = list(map(lambda x:reversed(x), string_list))\n",
    "    return result\n",
    "\n",
    "colors_list = [\"Red\", \"Green\", \"Blue\", \"White\", \"Black\"]\n",
    "print(\"\\nOriginal lists:\")\n",
    "print(colors_list)\n",
    "print(\"\\nReverse strings of the said given list:\")\n",
    "print(reverse_strings_list(colors_list))\n"
   ]
  },
  {
   "cell_type": "markdown",
   "id": "3143d259",
   "metadata": {},
   "source": [
    "https://www.programiz.com/python-programming/methods/built-in/reversed "
   ]
  },
  {
   "cell_type": "markdown",
   "id": "39ef0f64",
   "metadata": {},
   "source": [
    "### what is an iterator and what is return type as an iterator?\n",
    "### what is self written inside func?\n",
    "REVERSED() METHOD??\n",
    "\n",
    "remember lower() is not inplace, it won't apply automatically "
   ]
  },
  {
   "cell_type": "code",
   "execution_count": null,
   "id": "dd012243",
   "metadata": {},
   "outputs": [],
   "source": []
  }
 ],
 "metadata": {
  "kernelspec": {
   "display_name": "Python 3 (ipykernel)",
   "language": "python",
   "name": "python3"
  },
  "language_info": {
   "codemirror_mode": {
    "name": "ipython",
    "version": 3
   },
   "file_extension": ".py",
   "mimetype": "text/x-python",
   "name": "python",
   "nbconvert_exporter": "python",
   "pygments_lexer": "ipython3",
   "version": "3.9.7"
  }
 },
 "nbformat": 4,
 "nbformat_minor": 5
}
