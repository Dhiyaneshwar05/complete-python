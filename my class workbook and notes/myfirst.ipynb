{
 "cells": [
  {
   "cell_type": "code",
   "execution_count": 5,
   "id": "c2b8df30",
   "metadata": {},
   "outputs": [
    {
     "name": "stdout",
     "output_type": "stream",
     "text": [
      "hello world!!this is my 1st pgm ,om sai ram iam adding some more contents\n"
     ]
    }
   ],
   "source": [
    "print(\"hello world!!this is my 1st pgm ,om sai ram iam adding some more contents\")"
   ]
  },
  {
   "cell_type": "code",
   "execution_count": 3,
   "id": "1daa3687",
   "metadata": {},
   "outputs": [
    {
     "data": {
      "text/plain": [
       "1"
      ]
     },
     "execution_count": 3,
     "metadata": {},
     "output_type": "execute_result"
    }
   ],
   "source": [
    "1+1-1\n"
   ]
  },
  {
   "cell_type": "code",
   "execution_count": 4,
   "id": "884a3ec2",
   "metadata": {},
   "outputs": [
    {
     "name": "stdout",
     "output_type": "stream",
     "text": [
      "python is ez to use!!!-adding smthg\n"
     ]
    }
   ],
   "source": [
    "print(\"python is ez to use!!!-adding smthg\")"
   ]
  },
  {
   "cell_type": "markdown",
   "id": "88e9a614",
   "metadata": {},
   "source": [
    "this is to show how to make notes in notebook!!!\n"
   ]
  },
  {
   "cell_type": "code",
   "execution_count": null,
   "id": "ea5d3227",
   "metadata": {},
   "outputs": [],
   "source": []
  }
 ],
 "metadata": {
  "kernelspec": {
   "display_name": "Python 3",
   "language": "python",
   "name": "python3"
  },
  "language_info": {
   "codemirror_mode": {
    "name": "ipython",
    "version": 3
   },
   "file_extension": ".py",
   "mimetype": "text/x-python",
   "name": "python",
   "nbconvert_exporter": "python",
   "pygments_lexer": "ipython3",
   "version": "3.8.8"
  }
 },
 "nbformat": 4,
 "nbformat_minor": 5
}
