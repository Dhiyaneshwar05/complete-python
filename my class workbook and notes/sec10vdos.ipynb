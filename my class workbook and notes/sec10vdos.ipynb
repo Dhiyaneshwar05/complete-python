{
 "cells": [
  {
   "cell_type": "code",
   "execution_count": 1,
   "id": "f549ca7f",
   "metadata": {},
   "outputs": [
    {
     "name": "stdout",
     "output_type": "stream",
     "text": [
      "iam in loop\n"
     ]
    }
   ],
   "source": [
    "while True:\n",
    "    print(\"iam in loop\")\n",
    "    break\n",
    "# remember break - comes out of the closest loop "
   ]
  },
  {
   "cell_type": "code",
   "execution_count": 12,
   "id": "e73a5c10",
   "metadata": {},
   "outputs": [
    {
     "name": "stdout",
     "output_type": "stream",
     "text": [
      "i less than 5--i is:  3\n",
      "i less than 5--i is:  4\n",
      "i less than 5--i is:  5\n"
     ]
    }
   ],
   "source": [
    "i=1\n",
    "while i<5:\n",
    "    i+=1#basically what continue does is\n",
    "    #IT GIVES CONTROL BACK TO THE LOOP WITHOUT EXECUTING THE CODE UNDER \"CONTINUE STATEMENT\"\n",
    "    if(i==2):\n",
    "        continue\n",
    "    print(\"i less than 5--i is: \",i)\n",
    "\n",
    "    "
   ]
  },
  {
   "cell_type": "code",
   "execution_count": 2,
   "id": "2e6bb203",
   "metadata": {},
   "outputs": [
    {
     "ename": "ZeroDivisionError",
     "evalue": "division by zero",
     "output_type": "error",
     "traceback": [
      "\u001b[1;31m---------------------------------------------------------------------------\u001b[0m",
      "\u001b[1;31mZeroDivisionError\u001b[0m                         Traceback (most recent call last)",
      "\u001b[1;32m<ipython-input-2-5a409ffe010b>\u001b[0m in \u001b[0;36m<module>\u001b[1;34m\u001b[0m\n\u001b[1;32m----> 1\u001b[1;33m \u001b[0mprint\u001b[0m\u001b[1;33m(\u001b[0m\u001b[1;36m1\u001b[0m\u001b[1;33m/\u001b[0m\u001b[1;36m0\u001b[0m\u001b[1;33m)\u001b[0m\u001b[1;33m\u001b[0m\u001b[1;33m\u001b[0m\u001b[0m\n\u001b[0m\u001b[0;32m      2\u001b[0m \u001b[0mprint\u001b[0m\u001b[1;33m(\u001b[0m\u001b[1;34m\"error so i wont get executed\"\u001b[0m\u001b[1;33m)\u001b[0m\u001b[1;33m\u001b[0m\u001b[1;33m\u001b[0m\u001b[0m\n",
      "\u001b[1;31mZeroDivisionError\u001b[0m: division by zero"
     ]
    }
   ],
   "source": [
    "print(1/0)\n",
    "print(\"error so i wont get executed\")"
   ]
  },
  {
   "cell_type": "code",
   "execution_count": 3,
   "id": "cdd23e44",
   "metadata": {},
   "outputs": [
    {
     "name": "stdout",
     "output_type": "stream",
     "text": [
      "iam gonna add num and string to get an error\n"
     ]
    },
    {
     "ename": "TypeError",
     "evalue": "unsupported operand type(s) for +: 'int' and 'str'",
     "output_type": "error",
     "traceback": [
      "\u001b[1;31m---------------------------------------------------------------------------\u001b[0m",
      "\u001b[1;31mTypeError\u001b[0m                                 Traceback (most recent call last)",
      "\u001b[1;32m<ipython-input-3-dfff909e7767>\u001b[0m in \u001b[0;36m<module>\u001b[1;34m\u001b[0m\n\u001b[0;32m      1\u001b[0m \u001b[0mprint\u001b[0m\u001b[1;33m(\u001b[0m\u001b[1;34m\"iam gonna add num and string to get an error\"\u001b[0m\u001b[1;33m)\u001b[0m\u001b[1;33m\u001b[0m\u001b[1;33m\u001b[0m\u001b[0m\n\u001b[1;32m----> 2\u001b[1;33m \u001b[0mprint\u001b[0m\u001b[1;33m(\u001b[0m\u001b[1;36m10\u001b[0m\u001b[1;33m+\u001b[0m\u001b[1;34m'10'\u001b[0m\u001b[1;33m)\u001b[0m\u001b[1;33m\u001b[0m\u001b[1;33m\u001b[0m\u001b[0m\n\u001b[0m\u001b[0;32m      3\u001b[0m \u001b[0mprint\u001b[0m\u001b[1;33m(\u001b[0m\u001b[1;34m\"i am not going to exe\"\u001b[0m\u001b[1;33m)\u001b[0m\u001b[1;33m\u001b[0m\u001b[1;33m\u001b[0m\u001b[0m\n",
      "\u001b[1;31mTypeError\u001b[0m: unsupported operand type(s) for +: 'int' and 'str'"
     ]
    }
   ],
   "source": [
    "print(\"iam gonna add num and string to get an error\")\n",
    "print(10+'10')\n",
    "print(\"i am not going to exe\")"
   ]
  },
  {
   "cell_type": "code",
   "execution_count": 4,
   "id": "16d0ae4a",
   "metadata": {},
   "outputs": [
    {
     "name": "stdout",
     "output_type": "stream",
     "text": [
      "gonna add num and str\n",
      "seems like u have an error\n",
      "no matter what i will run--even if there is a break/continue\n"
     ]
    }
   ],
   "source": [
    "try:\n",
    "    print(\"gonna add num and str\")\n",
    "    res=10+'10'\n",
    "except:\n",
    "    print(\"seems like u have an error\")\n",
    "else:\n",
    "    print(\"i will run if try block doesn't have exception--\\n ie if no exception i will run\")\n",
    "finally:\n",
    "    print(\"no matter what i will run--even if there is a break/continue\")\n",
    "    "
   ]
  },
  {
   "cell_type": "code",
   "execution_count": 5,
   "id": "45f2971b",
   "metadata": {},
   "outputs": [
    {
     "name": "stdout",
     "output_type": "stream",
     "text": [
      "gonna add num and num\n",
      "20 i will run if try block doesn't have exception--\n",
      " ie if no exception i will run\n",
      "no matter what i will run--even if there is a break/continue\n"
     ]
    }
   ],
   "source": [
    "try:\n",
    "    print(\"gonna add num and num\")\n",
    "    res=10+10\n",
    "except:\n",
    "    print(\"seems like u have an error\")\n",
    "    \n",
    "#NOTE ONLY EXCEPT OR ELSE ONLY ONE WILL RUN\n",
    "    \n",
    "else: \n",
    "    print(res,\"i will run if try block doesn't have exception--\\n ie if no exception i will run\")\n",
    "finally:\n",
    "    print(\"no matter what i will run--even if there is a break/continue\")"
   ]
  },
  {
   "cell_type": "code",
   "execution_count": 8,
   "id": "178424eb",
   "metadata": {},
   "outputs": [],
   "source": [
    "def get_int():\n",
    "    while True:\n",
    "        try:\n",
    "            i=int(input(\"enter int: \"))\n",
    "        except:\n",
    "            print(\"i want u to enter int!\")\n",
    "        else:\n",
    "            return i\n",
    "            print(\"iam after return i wont be exe but finally will!!!\")\n",
    "            #print(\"i got an int!!-its:\",i)\n",
    "            break\n",
    "        finally:\n",
    "            print(\"NOTE: as u can see i will run even after break/continue/return too!!\")"
   ]
  },
  {
   "cell_type": "code",
   "execution_count": 7,
   "id": "4bd3ef3b",
   "metadata": {},
   "outputs": [
    {
     "name": "stdout",
     "output_type": "stream",
     "text": [
      "enter int: three\n",
      "i want u to enter int!\n",
      "NOTE: as u can see i will run even after break/continue/return too!!\n",
      "enter int: 3\n",
      "i got an int!!-its: 3\n",
      "NOTE: as u can see i will run even after break/continue/return too!!\n"
     ]
    }
   ],
   "source": [
    "get_int()"
   ]
  },
  {
   "cell_type": "code",
   "execution_count": 9,
   "id": "e4d7e2ae",
   "metadata": {},
   "outputs": [
    {
     "name": "stdout",
     "output_type": "stream",
     "text": [
      "enter int: four\n",
      "i want u to enter int!\n",
      "NOTE: as u can see i will run even after break/continue/return too!!\n",
      "enter int: 4\n",
      "NOTE: as u can see i will run even after break/continue/return too!!\n",
      "4\n"
     ]
    }
   ],
   "source": [
    "r=get_int()\n",
    "print(r)"
   ]
  },
  {
   "cell_type": "code",
   "execution_count": 10,
   "id": "5b5686b3",
   "metadata": {},
   "outputs": [
    {
     "name": "stdout",
     "output_type": "stream",
     "text": [
      "Content written successfully\n"
     ]
    }
   ],
   "source": [
    "# we can except only selected exceptions like typeerror ,eofexception etc etc\n",
    "try:\n",
    "    f = open('testfile','w')\n",
    "    f.write('Test write this')\n",
    "except IOError:\n",
    "    # This will only check for an IOError exception and then execute this print statement\n",
    "    print(\"Error: Could not find file or read data\")\n",
    "else:\n",
    "    print(\"Content written successfully\")\n",
    "    f.close()"
   ]
  },
  {
   "cell_type": "code",
   "execution_count": 13,
   "id": "be3f0b17",
   "metadata": {},
   "outputs": [
    {
     "name": "stdout",
     "output_type": "stream",
     "text": [
      "1\n",
      "looks like an error\n"
     ]
    }
   ],
   "source": [
    "l=[1,'a','b',2,'c']\n",
    "try:\n",
    "    for i in l:\n",
    "        print(i**2)\n",
    "except:\n",
    "    print(\"looks like an error\")"
   ]
  },
  {
   "cell_type": "code",
   "execution_count": 16,
   "id": "6367bcf5",
   "metadata": {},
   "outputs": [
    {
     "name": "stdout",
     "output_type": "stream",
     "text": [
      "1\n",
      "error-cant exponent this list entry\n",
      "error-cant exponent this list entry\n",
      "4\n",
      "error-cant exponent this list entry\n"
     ]
    }
   ],
   "source": [
    "l1=[1,'a','b',2,'c']\n",
    "for j in l1:\n",
    "    try:\n",
    "        print(j**2)\n",
    "    except:\n",
    "        print(\"error-cant exponent this list entry\")"
   ]
  },
  {
   "cell_type": "code",
   "execution_count": 17,
   "id": "2f1bd098",
   "metadata": {},
   "outputs": [],
   "source": [
    "import pylint"
   ]
  },
  {
   "cell_type": "code",
   "execution_count": null,
   "id": "2dcb8909",
   "metadata": {},
   "outputs": [],
   "source": []
  }
 ],
 "metadata": {
  "kernelspec": {
   "display_name": "Python 3 (ipykernel)",
   "language": "python",
   "name": "python3"
  },
  "language_info": {
   "codemirror_mode": {
    "name": "ipython",
    "version": 3
   },
   "file_extension": ".py",
   "mimetype": "text/x-python",
   "name": "python",
   "nbconvert_exporter": "python",
   "pygments_lexer": "ipython3",
   "version": "3.9.7"
  }
 },
 "nbformat": 4,
 "nbformat_minor": 5
}
