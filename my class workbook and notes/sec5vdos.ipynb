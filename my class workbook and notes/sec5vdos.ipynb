{
 "cells": [
  {
   "cell_type": "markdown",
   "id": "36fca4c7",
   "metadata": {},
   "source": [
    " ## if,else,elif-control statements\n"
   ]
  },
  {
   "cell_type": "code",
   "execution_count": 1,
   "id": "e6a4b83d",
   "metadata": {},
   "outputs": [
    {
     "name": "stdout",
     "output_type": "stream",
     "text": [
      "feed me\n"
     ]
    }
   ],
   "source": [
    "hungry=True\n",
    "if hungry: #if hungry==True\n",
    "    print(\"feed me\")\n",
    "else:\n",
    "    print(\"no thanks\")"
   ]
  },
  {
   "cell_type": "code",
   "execution_count": 2,
   "id": "bae2b86d",
   "metadata": {},
   "outputs": [
    {
     "name": "stdout",
     "output_type": "stream",
     "text": [
      "3\n"
     ]
    }
   ],
   "source": [
    "a=3\n",
    "if a==1:\n",
    "    print(a)\n",
    "if a==2:\n",
    "    print(a)\n",
    "if a==3:\n",
    "    print(a)\n",
    "else:\n",
    "    print(\"nope\")"
   ]
  },
  {
   "cell_type": "code",
   "execution_count": 3,
   "id": "b8f4c84a",
   "metadata": {},
   "outputs": [
    {
     "name": "stdout",
     "output_type": "stream",
     "text": [
      "enter the colors-1:black blue red\n",
      "enter cols-2:red white green\n",
      "{'blue', 'black'}\n",
      "{'blue', 'black'}\n"
     ]
    }
   ],
   "source": [
    "list1=input(\"enter the colors-1:\").split()\n",
    "list2=input(\"enter cols-2:\").split()\n",
    "set1=set()\n",
    "for i in list1:\n",
    "    if i not in list2:\n",
    "        set1.add(i)\n",
    "        \n",
    "print(set1)#m1\n",
    "#m2\n",
    "print(set(list1)-set(list2))\n"
   ]
  },
  {
   "cell_type": "markdown",
   "id": "510a6bfe",
   "metadata": {},
   "source": [
    "## reason to use elif over multiple if\n",
    "1.it will think as diff if else block\n",
    "2.careful with condition say:mark=60 and we have if(mark>50)print(yes) then if(mark>40) print(yes) then it prints both, sometimes unwanted\n",
    "3.if elif else - one contd satisfies then control comes out\n",
    "in if if else -even afer 1 contd satisfies it checks other contds \n",
    "4.if elif else exe is faster than if if else\n",
    "\n",
    "links:\n",
    "https://stackoverflow.com/questions/25703446/whats-the-main-difference-between-if-and-else-if \n",
    "\n",
    "https://stackoverflow.com/questions/9271712/difference-between-multiple-ifs-and-elifs?noredirect=1&lq=1 "
   ]
  },
  {
   "cell_type": "code",
   "execution_count": 4,
   "id": "ce098f19",
   "metadata": {},
   "outputs": [
    {
     "name": "stdout",
     "output_type": "stream",
     "text": [
      "You are a child\n",
      "The age must be a positive integer!\n"
     ]
    }
   ],
   "source": [
    "def analyzeAge( age ):\n",
    "   if age < 21:\n",
    "       print (\"You are a child\")\n",
    "   if age >= 21: #Greater than or equal to\n",
    "       print (\"You are an adult\")\n",
    "   else:   #Handle all cases where 'age' is negative \n",
    "       print (\"The age must be a positive integer!\")\n",
    "\n",
    "analyzeAge( 18 )  #Calling the function\n"
   ]
  },
  {
   "cell_type": "code",
   "execution_count": 5,
   "id": "f3441d9b",
   "metadata": {},
   "outputs": [
    {
     "name": "stdout",
     "output_type": "stream",
     "text": [
      "color-> red\n",
      "color-> blue\n",
      "color-> bleck\n"
     ]
    }
   ],
   "source": [
    "list3=['red','blue','bleck']\n",
    "for i in list3:\n",
    "    print(\"color->\",i)\n",
    "    #note it doesn;t have like \"red\" \"blue\" its red blue"
   ]
  },
  {
   "cell_type": "markdown",
   "id": "2fc4d40f",
   "metadata": {},
   "source": [
    "## tuple unpacking"
   ]
  },
  {
   "cell_type": "code",
   "execution_count": 6,
   "id": "5cd1af28",
   "metadata": {},
   "outputs": [
    {
     "name": "stdout",
     "output_type": "stream",
     "text": [
      "2\n",
      "5\n",
      "8\n"
     ]
    }
   ],
   "source": [
    "#normal method\n",
    "l1=[(1,2,3),(4,5,6),(7,8,9)]\n",
    "for i in l1:\n",
    "    print(i[1])\n",
    "\n"
   ]
  },
  {
   "cell_type": "code",
   "execution_count": 7,
   "id": "5bd75128",
   "metadata": {},
   "outputs": [
    {
     "name": "stdout",
     "output_type": "stream",
     "text": [
      "2\n",
      "5\n",
      "8\n"
     ]
    }
   ],
   "source": [
    "#using tuple unpacking\n",
    "for a,b,c in l1:#(a,b,c) also fine\n",
    "    print(b)"
   ]
  },
  {
   "cell_type": "code",
   "execution_count": 8,
   "id": "79792892",
   "metadata": {},
   "outputs": [
    {
     "ename": "ValueError",
     "evalue": "too many values to unpack (expected 2)",
     "output_type": "error",
     "traceback": [
      "\u001b[1;31m---------------------------------------------------------------------------\u001b[0m",
      "\u001b[1;31mValueError\u001b[0m                                Traceback (most recent call last)",
      "\u001b[1;32m<ipython-input-8-ca24c32fd1a3>\u001b[0m in \u001b[0;36m<module>\u001b[1;34m\u001b[0m\n\u001b[1;32m----> 1\u001b[1;33m \u001b[1;32mfor\u001b[0m \u001b[0ma\u001b[0m\u001b[1;33m,\u001b[0m\u001b[0mb\u001b[0m \u001b[1;32min\u001b[0m \u001b[0ml1\u001b[0m\u001b[1;33m:\u001b[0m\u001b[1;31m#having min 3 element but only 2 var for unpacking leads to error\u001b[0m\u001b[1;33m\u001b[0m\u001b[1;33m\u001b[0m\u001b[0m\n\u001b[0m\u001b[0;32m      2\u001b[0m     \u001b[0mprint\u001b[0m\u001b[1;33m(\u001b[0m\u001b[1;34m\"1st ele->\"\u001b[0m\u001b[1;33m,\u001b[0m\u001b[0ma\u001b[0m\u001b[1;33m)\u001b[0m\u001b[1;33m\u001b[0m\u001b[1;33m\u001b[0m\u001b[0m\n\u001b[0;32m      3\u001b[0m     \u001b[0mprint\u001b[0m\u001b[1;33m(\u001b[0m\u001b[1;34m\"2nd ele->\"\u001b[0m\u001b[1;33m,\u001b[0m\u001b[0mb\u001b[0m\u001b[1;33m)\u001b[0m\u001b[1;33m\u001b[0m\u001b[1;33m\u001b[0m\u001b[0m\n",
      "\u001b[1;31mValueError\u001b[0m: too many values to unpack (expected 2)"
     ]
    }
   ],
   "source": [
    "for a,b in l1:#having min 3 element but only 2 var for unpacking leads to error\n",
    "    print(\"1st ele->\",a)\n",
    "    print(\"2nd ele->\",b)"
   ]
  },
  {
   "cell_type": "code",
   "execution_count": 9,
   "id": "db424776",
   "metadata": {},
   "outputs": [
    {
     "name": "stdout",
     "output_type": "stream",
     "text": [
      "[3]\n",
      "[6, 7]\n",
      "[10, 11, 12]\n",
      "[]\n"
     ]
    }
   ],
   "source": [
    "#NOTE\n",
    "list2=[(1,2,3),(4,5,6,7),(8,9,10,11,12),(13,14)]\n",
    "for a,b,*c in list2:\n",
    "    print(c)"
   ]
  },
  {
   "cell_type": "markdown",
   "id": "93f2f769",
   "metadata": {},
   "source": [
    "If you wanted to do some unpacking, and you know that your items have at least 2 numbers in them, you can do this,\n",
    "\n",
    "mylists = [(1,2),(3,4),(5,6),(7,8),(9,10),(11,12,13)]\n",
    " \n",
    "for a,b,*c in mylists:\n",
    "    print(a,b,c)\n",
    "So, a and b will be the first two items in the tuple, and c will be a list with any further items. If there are only two items, then c will be an empty list."
   ]
  },
  {
   "cell_type": "markdown",
   "id": "3c0892d5",
   "metadata": {},
   "source": [
    "## iteration in dict\n",
    "(remember-dict are UNORDERED, in small scale it may look ordered but that's not true)"
   ]
  },
  {
   "cell_type": "code",
   "execution_count": 10,
   "id": "845d199b",
   "metadata": {},
   "outputs": [
    {
     "name": "stdout",
     "output_type": "stream",
     "text": [
      "k1\n",
      "k2\n",
      "k3\n",
      "k4\n",
      "\n",
      "\n",
      "dict_items([('k1', 'one'), ('k2', 2), ('k3', 'three'), ('k4', 4)]) \n",
      "type <class 'dict_items'> \n",
      "\n",
      "('k1', 'one')\n",
      "('k2', 2)\n",
      "('k3', 'three')\n",
      "('k4', 4)\n",
      "\n",
      "\n",
      "key-> k1\n",
      "value-> one\n",
      "key-> k2\n",
      "value-> 2\n",
      "key-> k3\n",
      "value-> three\n",
      "key-> k4\n",
      "value-> 4\n",
      "\n",
      "\n",
      "one\n",
      "2\n",
      "three\n",
      "4\n",
      "\n",
      "\n",
      "k1\n",
      "k2\n",
      "k3\n",
      "k4\n"
     ]
    }
   ],
   "source": [
    "#note iteration is done on keys\n",
    "d={'k1':'one','k2':2,'k3':'three','k4':4}\n",
    "for i in d:\n",
    "    print(i)\n",
    "print(\"\\n\")\n",
    "\n",
    "print(d.items(),\"\\ntype\",type(d.items()),\"\\n\")\n",
    "\n",
    "for it in d.items():#here also tuple unpacking\n",
    "    print(it)\n",
    "print(\"\\n\")\n",
    "\n",
    "for key,value in d.items():#tuple unpacking\n",
    "    print(\"key->\",key)\n",
    "    print(\"value->\",value)\n",
    "print(\"\\n\")\n",
    "\n",
    "for v in d.values():#built in\n",
    "    print(v)\n",
    "print(\"\\n\")\n",
    "\n",
    "for k in d.keys():\n",
    "    print(k)"
   ]
  },
  {
   "cell_type": "code",
   "execution_count": 11,
   "id": "65636620",
   "metadata": {},
   "outputs": [
    {
     "name": "stdout",
     "output_type": "stream",
     "text": [
      "4\n",
      "3\n",
      "2\n",
      "1\n",
      "now a is less than 4\n"
     ]
    }
   ],
   "source": [
    "# WHILE LOOPS\n",
    "a=4\n",
    "while a>0:\n",
    "    print(a)\n",
    "    a=a-1     #a-=1\n",
    "else:\n",
    "    print(\"now a is less than 4\")"
   ]
  },
  {
   "cell_type": "code",
   "execution_count": 12,
   "id": "17bc58e6",
   "metadata": {},
   "outputs": [
    {
     "name": "stdout",
     "output_type": "stream",
     "text": [
      "hi\n"
     ]
    }
   ],
   "source": [
    "for i in range(5):\n",
    "    pass          # used to fill space(place holder) if without that error will come coz of identattion\n",
    "                #we can even use None - evenif we use #summa in that place stilll error wil b there(comment)\n",
    "print(\"hi\")"
   ]
  },
  {
   "cell_type": "code",
   "execution_count": null,
   "id": "ff7ebea6",
   "metadata": {},
   "outputs": [
    {
     "name": "stdout",
     "output_type": "stream",
     "text": [
      "h\n",
      "e\n",
      "o\n",
      "\n",
      "\n",
      "h\n",
      "e\n",
      "iam out of loop\n",
      "\n",
      "0\n",
      "1\n",
      "2\n",
      "\n",
      "\n",
      "4\n",
      "2\n",
      "1\n",
      "0\n",
      "\n",
      "\n",
      "5\n",
      "4\n"
     ]
    }
   ],
   "source": [
    "for i in \"hello\":\n",
    "    if i=='l':\n",
    "        continue  #AFTER CONTINUE CONTROL GOES TO NEAREST ENCLOSING LOOP (for in our case)\n",
    "    print(i)\n",
    "\n",
    "print(\"\\n\")\n",
    "\n",
    "for i in 'hello': #breaks out of the current loop(for loop in our case)\n",
    "    if i=='l':\n",
    "        break\n",
    "    print(i)\n",
    "print(\"iam out of loop\\n\")\n",
    "\n",
    "j=0\n",
    "while j<5:\n",
    "    if j==3:\n",
    "        break\n",
    "    print(j)\n",
    "    j+=1\n",
    "\n",
    "print(\"\\n\")\n",
    "j=5\n",
    "while j>0:\n",
    "    j-=1\n",
    "    if j==3:\n",
    "        continue\n",
    "    print(j)\n",
    "   \n",
    "print(\"\\n\")\n",
    "j=5\n",
    "while j>0:\n",
    "    if j==3:\n",
    "        continue\n",
    "    print(j)\n",
    "    j-=1"
   ]
  },
  {
   "cell_type": "markdown",
   "id": "299b9adc",
   "metadata": {},
   "source": [
    "# float prob in loops\n",
    "While loops work fine with floats. The results you are seeing have nothing to do with the while loop. Floating point numbers can't be exactly represented in binary, so there is a very small deviation from the exact value. You should use formatting to limit the number of decimal place that 're seeing\n",
    "\n",
    "x = 0\n",
    "while x < 5 :\n",
    "    print (f\"The current number is {x:1.1f}\")\n",
    "    x += 0.1"
   ]
  },
  {
   "cell_type": "code",
   "execution_count": 5,
   "id": "691fdeb8",
   "metadata": {},
   "outputs": [
    {
     "name": "stdout",
     "output_type": "stream",
     "text": [
      "WITH FORMATING->The current number is 0.0\n",
      "WITHOUT FORMATING-> 0\n",
      "WITH FORMATING->The current number is 0.1\n",
      "WITHOUT FORMATING-> 0.1\n",
      "WITH FORMATING->The current number is 0.2\n",
      "WITHOUT FORMATING-> 0.2\n",
      "WITH FORMATING->The current number is 0.3\n",
      "WITHOUT FORMATING-> 0.30000000000000004\n",
      "WITH FORMATING->The current number is 0.4\n",
      "WITHOUT FORMATING-> 0.4\n",
      "WITH FORMATING->The current number is 0.5\n",
      "WITHOUT FORMATING-> 0.5\n",
      "WITH FORMATING->The current number is 0.6\n",
      "WITHOUT FORMATING-> 0.6\n",
      "WITH FORMATING->The current number is 0.7\n",
      "WITHOUT FORMATING-> 0.7\n",
      "WITH FORMATING->The current number is 0.8\n",
      "WITHOUT FORMATING-> 0.7999999999999999\n",
      "WITH FORMATING->The current number is 0.9\n",
      "WITHOUT FORMATING-> 0.8999999999999999\n",
      "WITH FORMATING->The current number is 1.0\n",
      "WITHOUT FORMATING-> 0.9999999999999999\n",
      "WITH FORMATING->The current number is 1.1\n",
      "WITHOUT FORMATING-> 1.0999999999999999\n",
      "WITH FORMATING->The current number is 1.2\n",
      "WITHOUT FORMATING-> 1.2\n",
      "WITH FORMATING->The current number is 1.3\n",
      "WITHOUT FORMATING-> 1.3\n",
      "WITH FORMATING->The current number is 1.4\n",
      "WITHOUT FORMATING-> 1.4000000000000001\n",
      "WITH FORMATING->The current number is 1.5\n",
      "WITHOUT FORMATING-> 1.5000000000000002\n",
      "WITH FORMATING->The current number is 1.6\n",
      "WITHOUT FORMATING-> 1.6000000000000003\n",
      "WITH FORMATING->The current number is 1.7\n",
      "WITHOUT FORMATING-> 1.7000000000000004\n",
      "WITH FORMATING->The current number is 1.8\n",
      "WITHOUT FORMATING-> 1.8000000000000005\n",
      "WITH FORMATING->The current number is 1.9\n",
      "WITHOUT FORMATING-> 1.9000000000000006\n",
      "WITH FORMATING->The current number is 2.0\n",
      "WITHOUT FORMATING-> 2.0000000000000004\n",
      "WITH FORMATING->The current number is 2.1\n",
      "WITHOUT FORMATING-> 2.1000000000000005\n",
      "WITH FORMATING->The current number is 2.2\n",
      "WITHOUT FORMATING-> 2.2000000000000006\n",
      "WITH FORMATING->The current number is 2.3\n",
      "WITHOUT FORMATING-> 2.3000000000000007\n",
      "WITH FORMATING->The current number is 2.4\n",
      "WITHOUT FORMATING-> 2.400000000000001\n",
      "WITH FORMATING->The current number is 2.5\n",
      "WITHOUT FORMATING-> 2.500000000000001\n",
      "WITH FORMATING->The current number is 2.6\n",
      "WITHOUT FORMATING-> 2.600000000000001\n",
      "WITH FORMATING->The current number is 2.7\n",
      "WITHOUT FORMATING-> 2.700000000000001\n",
      "WITH FORMATING->The current number is 2.8\n",
      "WITHOUT FORMATING-> 2.800000000000001\n",
      "WITH FORMATING->The current number is 2.9\n",
      "WITHOUT FORMATING-> 2.9000000000000012\n",
      "WITH FORMATING->The current number is 3.0\n",
      "WITHOUT FORMATING-> 3.0000000000000013\n",
      "WITH FORMATING->The current number is 3.1\n",
      "WITHOUT FORMATING-> 3.1000000000000014\n",
      "WITH FORMATING->The current number is 3.2\n",
      "WITHOUT FORMATING-> 3.2000000000000015\n",
      "WITH FORMATING->The current number is 3.3\n",
      "WITHOUT FORMATING-> 3.3000000000000016\n",
      "WITH FORMATING->The current number is 3.4\n",
      "WITHOUT FORMATING-> 3.4000000000000017\n",
      "WITH FORMATING->The current number is 3.5\n",
      "WITHOUT FORMATING-> 3.5000000000000018\n",
      "WITH FORMATING->The current number is 3.6\n",
      "WITHOUT FORMATING-> 3.600000000000002\n",
      "WITH FORMATING->The current number is 3.7\n",
      "WITHOUT FORMATING-> 3.700000000000002\n",
      "WITH FORMATING->The current number is 3.8\n",
      "WITHOUT FORMATING-> 3.800000000000002\n",
      "WITH FORMATING->The current number is 3.9\n",
      "WITHOUT FORMATING-> 3.900000000000002\n",
      "WITH FORMATING->The current number is 4.0\n",
      "WITHOUT FORMATING-> 4.000000000000002\n",
      "WITH FORMATING->The current number is 4.1\n",
      "WITHOUT FORMATING-> 4.100000000000001\n",
      "WITH FORMATING->The current number is 4.2\n",
      "WITHOUT FORMATING-> 4.200000000000001\n",
      "WITH FORMATING->The current number is 4.3\n",
      "WITHOUT FORMATING-> 4.300000000000001\n",
      "WITH FORMATING->The current number is 4.4\n",
      "WITHOUT FORMATING-> 4.4\n",
      "WITH FORMATING->The current number is 4.5\n",
      "WITHOUT FORMATING-> 4.5\n",
      "WITH FORMATING->The current number is 4.6\n",
      "WITHOUT FORMATING-> 4.6\n",
      "WITH FORMATING->The current number is 4.7\n",
      "WITHOUT FORMATING-> 4.699999999999999\n",
      "WITH FORMATING->The current number is 4.8\n",
      "WITHOUT FORMATING-> 4.799999999999999\n",
      "WITH FORMATING->The current number is 4.9\n",
      "WITHOUT FORMATING-> 4.899999999999999\n",
      "WITH FORMATING->The current number is 5.0\n",
      "WITHOUT FORMATING-> 4.999999999999998\n"
     ]
    }
   ],
   "source": [
    "x = 0 \n",
    "while x < 5 : \n",
    "    print (f\"WITH FORMATING->The current number is {x:1.1f}\") \n",
    "    print(f\"WITHOUT FORMATING->\",x)\n",
    "    x += 0.1"
   ]
  },
  {
   "cell_type": "markdown",
   "id": "86cc4b40",
   "metadata": {},
   "source": [
    "# useful operators\n"
   ]
  },
  {
   "cell_type": "code",
   "execution_count": 6,
   "id": "c25cb51a",
   "metadata": {},
   "outputs": [
    {
     "name": "stdout",
     "output_type": "stream",
     "text": [
      "1\n",
      "3\n",
      "5\n",
      "7\n",
      "9\n"
     ]
    }
   ],
   "source": [
    "#NOTE LAST INDEX IS NOT INCLUDED IN RANGE!!\n",
    "for i in range(1,10,2):\n",
    "    print(i)\n",
    "#generate it instead of saving it to memory"
   ]
  },
  {
   "cell_type": "code",
   "execution_count": 8,
   "id": "240ee348",
   "metadata": {},
   "outputs": [
    {
     "name": "stdout",
     "output_type": "stream",
     "text": [
      "[10, 13, 16, 19]\n"
     ]
    }
   ],
   "source": [
    "list1=list(range(10,20,3))\n",
    "print(list1)"
   ]
  },
  {
   "cell_type": "code",
   "execution_count": 14,
   "id": "5afe7e95",
   "metadata": {},
   "outputs": [
    {
     "name": "stdout",
     "output_type": "stream",
     "text": [
      "0 a\n",
      "1 b\n",
      "2 c\n",
      "3 d\n",
      "4 e\n",
      "\n",
      "\n",
      "(0, 'a')\n",
      "(1, 'b')\n",
      "(2, 'c')\n",
      "(3, 'd')\n",
      "(4, 'e')\n",
      "\n",
      "#sINCE ITS A TUPLE WE CAN UNPACK IT\n",
      "0\n",
      "a \n",
      "\n",
      "1\n",
      "b \n",
      "\n",
      "2\n",
      "c \n",
      "\n",
      "3\n",
      "d \n",
      "\n",
      "4\n",
      "e \n",
      "\n"
     ]
    }
   ],
   "source": [
    "#ENUMERATE- WE CAN TAKE ANY ITERABLE OBJ AS ARG TO enumerate()\n",
    "word='abcde'\n",
    "i_count=0\n",
    "for i in word:\n",
    "    print(i_count,i)\n",
    "    i_count+=1\n",
    "    \n",
    "print('\\n')\n",
    "\n",
    "word=\"abcde\"\n",
    "for item in enumerate(word):\n",
    "    print(item)\n",
    "print(\"\\n#sINCE ITS A TUPLE WE CAN UNPACK IT\")\n",
    "for index,letter in enumerate(word):\n",
    "    print(index)\n",
    "    print(letter,\"\\n\")"
   ]
  },
  {
   "cell_type": "code",
   "execution_count": 1,
   "id": "f5e69cfc",
   "metadata": {},
   "outputs": [
    {
     "name": "stdout",
     "output_type": "stream",
     "text": [
      "(1, 'a', True)\n",
      "(2, 'b', False)\n",
      "(3, 'c', True)\n",
      "\n",
      "\n",
      "<zip object at 0x000002C238BF1600>\n",
      "[(1, True), (2, False), (3, True), (4, True)]\n"
     ]
    }
   ],
   "source": [
    "#zip()\n",
    "ml1=[1,2,3,4,5,6]\n",
    "ml2=['a','b','c']\n",
    "ml3=[True,False,True,True]\n",
    "for item in zip(ml1,ml2,ml3):\n",
    "    print(item)\n",
    "    \n",
    "print(\"\\n\")\n",
    "print(zip(ml1,ml2,ml3))#we can use it only during iterating ig ??\n",
    "print(list(zip(ml1,ml3)))"
   ]
  },
  {
   "cell_type": "code",
   "execution_count": 21,
   "id": "07314a9c",
   "metadata": {},
   "outputs": [
    {
     "name": "stdout",
     "output_type": "stream",
     "text": [
      "True\n",
      "False\n",
      "False\n",
      "True\n",
      "False\n"
     ]
    }
   ],
   "source": [
    "# in operator \n",
    "# used in lists,strings and some others \n",
    "d={'k1':456,'k2':'a','k3':True}\n",
    "print('k1' in d)\n",
    "print('k2' not in d)\n",
    "print('a' in d)\n",
    "print('a' in d.values())\n",
    "print(456 in d.keys())"
   ]
  },
  {
   "cell_type": "markdown",
   "id": "1207e826",
   "metadata": {},
   "source": [
    "## import"
   ]
  },
  {
   "cell_type": "code",
   "execution_count": 29,
   "id": "03c63607",
   "metadata": {},
   "outputs": [
    {
     "name": "stdout",
     "output_type": "stream",
     "text": [
      "[0, 1, 2, 3, 4, 5, 6, 7, 8, 9]\n",
      "[0, 6, 1, 8, 4, 3, 2, 9, 5, 7] \n",
      "\n",
      "8\n"
     ]
    }
   ],
   "source": [
    "from random import shuffle,randint\n",
    "\n",
    "mylist=list(range(10))\n",
    "print(mylist)\n",
    "shuffle(mylist)#INPLACE\n",
    "print(mylist,\"\\n\")\n",
    "print(randint(0,10))\n",
    "#from random import  \n",
    "# Return random integer in range [a, b], including both end points."
   ]
  },
  {
   "cell_type": "markdown",
   "id": "70ad5b37",
   "metadata": {},
   "source": [
    "# input\n",
    "takes input in STRING FORMAT by default"
   ]
  },
  {
   "cell_type": "code",
   "execution_count": 37,
   "id": "0a8411fb",
   "metadata": {},
   "outputs": [
    {
     "name": "stdout",
     "output_type": "stream",
     "text": [
      "0   9\n",
      "1   8\n",
      "2   7\n",
      "3   6\n",
      "4   5\n",
      "5   4\n",
      "6   3\n",
      "7   2\n",
      "8   1\n",
      "9   0\n"
     ]
    }
   ],
   "source": [
    "for i in range(0,10):\n",
    "    print(i,\" \",len(range(0,10))-i-1)\n",
    "    #print(\"\\n\")"
   ]
  },
  {
   "cell_type": "markdown",
   "id": "6bb75a7e",
   "metadata": {},
   "source": [
    "## list comprehension"
   ]
  },
  {
   "cell_type": "code",
   "execution_count": 38,
   "id": "dedafe36",
   "metadata": {},
   "outputs": [],
   "source": [
    "mylist=list('hello')"
   ]
  },
  {
   "cell_type": "code",
   "execution_count": 35,
   "id": "4e2a4027",
   "metadata": {},
   "outputs": [
    {
     "name": "stdout",
     "output_type": "stream",
     "text": [
      "['h', 'e', 'l', 'l', 'o']\n"
     ]
    }
   ],
   "source": [
    "print(mylist)"
   ]
  },
  {
   "cell_type": "code",
   "execution_count": 39,
   "id": "0c73a72d",
   "metadata": {},
   "outputs": [
    {
     "name": "stdout",
     "output_type": "stream",
     "text": [
      "['hi', 'my', 'name', 'is', 'd']\n"
     ]
    }
   ],
   "source": [
    "str=\"hi my name is d\"\n",
    "print(str.split())"
   ]
  },
  {
   "cell_type": "code",
   "execution_count": 40,
   "id": "060877da",
   "metadata": {},
   "outputs": [
    {
     "name": "stdout",
     "output_type": "stream",
     "text": [
      "['h', 'e', 'l', 'l', 'o']\n"
     ]
    }
   ],
   "source": [
    "list5=[]\n",
    "for i in 'hello':\n",
    "    list5.append(i)\n",
    "print(list5)"
   ]
  },
  {
   "cell_type": "code",
   "execution_count": 42,
   "id": "2afc06dd",
   "metadata": {},
   "outputs": [
    {
     "name": "stdout",
     "output_type": "stream",
     "text": [
      "['w', 'o', 'r', 'd']\n"
     ]
    }
   ],
   "source": [
    "# now this is list comprehension FLATTENED FORM OF FOR LOOP\n",
    "lst = [x for x in 'word']\n",
    "print(lst)"
   ]
  },
  {
   "cell_type": "code",
   "execution_count": 43,
   "id": "a5560d13",
   "metadata": {},
   "outputs": [
    {
     "name": "stdout",
     "output_type": "stream",
     "text": [
      "[0, 1, 4, 9, 16, 25, 36, 49, 64, 81, 100]\n"
     ]
    }
   ],
   "source": [
    "lst = [x**2 for x in range(0,11)]\n",
    "print(lst)"
   ]
  },
  {
   "cell_type": "code",
   "execution_count": 44,
   "id": "7f5d40c2",
   "metadata": {},
   "outputs": [
    {
     "name": "stdout",
     "output_type": "stream",
     "text": [
      "[0, 2, 4, 6, 8, 10]\n"
     ]
    }
   ],
   "source": [
    "# with if loop \n",
    "lst = [x for x in range(11) if x % 2 == 0]\n",
    "print(lst)"
   ]
  },
  {
   "cell_type": "code",
   "execution_count": 49,
   "id": "1d9ab35f",
   "metadata": {},
   "outputs": [
    {
     "name": "stdout",
     "output_type": "stream",
     "text": [
      "['odd', 'EVEN', 'odd', 'EVEN', 'odd', 'EVEN', 'odd', 'EVEN', 'odd', 'EVEN', 'odd', 'EVEN', 'odd', 'EVEN', 'odd', 'EVEN', 'odd', 'EVEN', 'odd', 'EVEN']\n"
     ]
    }
   ],
   "source": [
    "#NOTE-  using IF ELSE --> HERE THERE IS A CHANGE IN ORDER \n",
    "lst =[\"EVEN\" if x%2==0 else 'odd' for x in range(1,21)]\n",
    "print(lst)"
   ]
  },
  {
   "cell_type": "code",
   "execution_count": 55,
   "id": "5bf3ebe6",
   "metadata": {},
   "outputs": [
    {
     "name": "stdout",
     "output_type": "stream",
     "text": [
      "[10, 100, 1000, 20, 200, 2000, 30, 300, 3000]\n",
      "\n",
      "using list comp\n",
      "[10, 100, 1000, 20, 200, 2000, 30, 300, 3000]\n"
     ]
    }
   ],
   "source": [
    "# USING NESTED FOR LOOP\n",
    "mylist6=[]\n",
    "for i in [1,2,3]:\n",
    "    for j in [10,100,1000]:\n",
    "        mylist6.append(i*j)\n",
    "print(mylist6)\n",
    "        \n",
    "print(\"\\nusing list comp\")\n",
    "\n",
    "list7=[x*y for x in [1,2,3] for y in [10,100,1000]]\n",
    "print(list7)"
   ]
  },
  {
   "cell_type": "markdown",
   "id": "526cb2ad",
   "metadata": {},
   "source": [
    "### SEE CMTS ON VDOS 38 39 40! \n",
    "#### CAN WE LOOP THRU ALL OBJS ?\n",
    "#### IN WHICH OBJ AND ALL WE CAN USE TUPLE UNPACKING ?\n",
    "https://pythonprinciples.com/blog/lists-of-strings-in-python/#:~:text=To%20create%20a%20list%20of,the%20list%20in%20a%20variable. "
   ]
  },
  {
   "cell_type": "code",
   "execution_count": null,
   "id": "d2c589a1",
   "metadata": {},
   "outputs": [],
   "source": []
  },
  {
   "cell_type": "code",
   "execution_count": null,
   "id": "6b94fe4d",
   "metadata": {},
   "outputs": [],
   "source": []
  }
 ],
 "metadata": {
  "kernelspec": {
   "display_name": "Python 3 (ipykernel)",
   "language": "python",
   "name": "python3"
  },
  "language_info": {
   "codemirror_mode": {
    "name": "ipython",
    "version": 3
   },
   "file_extension": ".py",
   "mimetype": "text/x-python",
   "name": "python",
   "nbconvert_exporter": "python",
   "pygments_lexer": "ipython3",
   "version": "3.9.7"
  }
 },
 "nbformat": 4,
 "nbformat_minor": 5
}
